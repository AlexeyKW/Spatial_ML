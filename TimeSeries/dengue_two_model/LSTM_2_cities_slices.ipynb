{
 "cells": [
  {
   "cell_type": "markdown",
   "metadata": {},
   "source": [
    "#### Score 30.5601"
   ]
  },
  {
   "cell_type": "markdown",
   "metadata": {},
   "source": [
    "https://machinelearningmastery.com/multivariate-time-series-forecasting-lstms-keras/"
   ]
  },
  {
   "cell_type": "markdown",
   "metadata": {},
   "source": [
    "https://machinelearningmastery.com/how-to-use-the-timeseriesgenerator-for-time-series-forecasting-in-keras/"
   ]
  },
  {
   "cell_type": "markdown",
   "metadata": {},
   "source": [
    "https://stackabuse.com/time-series-analysis-with-lstm-using-pythons-keras-library/"
   ]
  },
  {
   "cell_type": "markdown",
   "metadata": {},
   "source": [
    "Tests\n",
    "https://towardsdatascience.com/time-series-analysis-visualization-forecasting-with-lstm-77a905180eba"
   ]
  },
  {
   "cell_type": "markdown",
   "metadata": {},
   "source": [
    "https://medium.com/datadriveninvestor/multivariate-time-series-using-rnn-with-keras-7f78f4488679"
   ]
  },
  {
   "cell_type": "markdown",
   "metadata": {},
   "source": [
    "Exploration keras https://www.kaggle.com/ternaryrealm/lstm-time-series-explorations-with-keras"
   ]
  },
  {
   "cell_type": "markdown",
   "metadata": {},
   "source": [
    "https://www.dlology.com/blog/how-to-use-keras-timeseriesgenerator-for-time-series-data/"
   ]
  },
  {
   "cell_type": "markdown",
   "metadata": {},
   "source": [
    "https://www.business-science.io/timeseries-analysis/2018/04/18/keras-lstm-sunspots-time-series-prediction.html"
   ]
  },
  {
   "cell_type": "markdown",
   "metadata": {},
   "source": [
    "https://stackoverflow.com/questions/42370740/preparing-time-series-data-for-keras-lstm-network-trains-with-extremely-high-l"
   ]
  },
  {
   "cell_type": "markdown",
   "metadata": {},
   "source": [
    "https://www.altumintelligence.com/articles/a/Time-Series-Prediction-Using-LSTM-Deep-Neural-Networks"
   ]
  },
  {
   "cell_type": "code",
   "execution_count": 39,
   "metadata": {},
   "outputs": [],
   "source": [
    "import numpy as np\n",
    "import matplotlib.pyplot as plt\n",
    "import pandas as pd\n",
    "import seaborn as sns\n",
    "from keras.models import Sequential\n",
    "from keras.layers import Dense\n",
    "from keras.layers import LSTM\n",
    "from keras.layers import Dropout\n",
    "from sklearn.preprocessing import MinMaxScaler\n",
    "from sklearn.metrics import mean_squared_error\n",
    "from scipy import stats\n",
    "from keras.preprocessing.sequence import TimeseriesGenerator"
   ]
  },
  {
   "cell_type": "code",
   "execution_count": 40,
   "metadata": {},
   "outputs": [],
   "source": [
    "X_train = pd.read_csv('data_dengue/dengue_features_train.csv', index_col=None)\n",
    "df_y_train = pd.read_csv('data_dengue/dengue_labels_train.csv', index_col=None)\n",
    "X_test = pd.read_csv('data_dengue/dengue_features_test.csv', index_col=None)"
   ]
  },
  {
   "cell_type": "code",
   "execution_count": 41,
   "metadata": {},
   "outputs": [],
   "source": [
    "X_train['week_start_date'] = pd.to_datetime(X_train['week_start_date'])\n",
    "X_train['week_start_date'] = X_train['week_start_date'] - pd.to_datetime('1980-01-01')\n",
    "X_train['week_start_date'] = pd.to_numeric(X_train['week_start_date'])/100000000000\n",
    "X_train_new = X_train.fillna(X_train.mean())\n",
    "X_train_sj=X_train_new[X_train_new.city=='sj']\n",
    "X_train_iq=X_train_new[X_train_new.city=='iq']\n",
    "X_train_sj = X_train_sj.drop(['city'], axis=1)\n",
    "X_train_iq = X_train_iq.drop(['city'], axis=1)"
   ]
  },
  {
   "cell_type": "code",
   "execution_count": 42,
   "metadata": {},
   "outputs": [],
   "source": [
    "X_test['week_start_date'] = pd.to_datetime(X_test['week_start_date'])\n",
    "X_test['week_start_date'] = X_test['week_start_date'] - pd.to_datetime('1980-01-01')\n",
    "X_test['week_start_date'] = pd.to_numeric(X_test['week_start_date'])/100000000000\n",
    "X_test_new = X_test.fillna(X_test.mean())\n",
    "X_test_sj=X_test_new[X_test_new.city=='sj']\n",
    "X_test_iq=X_test_new[X_test_new.city=='iq']\n",
    "X_test_sj = X_test_sj.drop(['city'], axis=1)\n",
    "X_test_iq = X_test_iq.drop(['city'], axis=1)"
   ]
  },
  {
   "cell_type": "code",
   "execution_count": 43,
   "metadata": {},
   "outputs": [],
   "source": [
    "X_train_sj_float = X_train_sj.astype('float64')\n",
    "X_train_iq_float = X_train_iq.astype('float64')\n",
    "X_test_sj_float = X_test_sj.astype('float64')\n",
    "X_test_iq_float = X_test_iq.astype('float64')"
   ]
  },
  {
   "cell_type": "code",
   "execution_count": 44,
   "metadata": {},
   "outputs": [],
   "source": [
    "min_max_scaler = MinMaxScaler(feature_range=(0, 1))\n",
    "X_train_sj_scaled = min_max_scaler.fit_transform(X_train_sj_float)\n",
    "X_train_iq_scaled = min_max_scaler.fit_transform(X_train_iq_float)\n",
    "X_test_sj_scaled = min_max_scaler.transform(X_test_sj_float)\n",
    "X_test_iq_scaled = min_max_scaler.transform(X_test_iq_float)"
   ]
  },
  {
   "cell_type": "code",
   "execution_count": 45,
   "metadata": {},
   "outputs": [],
   "source": [
    "y_train_sj = np.array(df_y_train[df_y_train.city=='sj'][\"total_cases\"])\n",
    "y_train_iq = np.array(df_y_train[df_y_train.city=='iq'][\"total_cases\"])"
   ]
  },
  {
   "cell_type": "code",
   "execution_count": 51,
   "metadata": {},
   "outputs": [],
   "source": [
    "generator_sj = TimeseriesGenerator(X_train_sj_scaled, y_train_sj, length=1, batch_size=1)\n",
    "generator_iq = TimeseriesGenerator(X_train_iq_scaled, y_train_iq, length=1, batch_size=1)"
   ]
  },
  {
   "cell_type": "code",
   "execution_count": 47,
   "metadata": {},
   "outputs": [],
   "source": [
    "model_sj = Sequential()\n",
    "model_sj.add(LSTM(50, activation='relu', return_sequences=True, input_shape=(1, 23)))\n",
    "model_sj.add(LSTM(50, activation='relu', return_sequences=True))\n",
    "model_sj.add(LSTM(30, activation='relu'))\n",
    "model_sj.add(Dense(1))\n",
    "model_sj.compile(optimizer='adam', loss='mae')"
   ]
  },
  {
   "cell_type": "code",
   "execution_count": 50,
   "metadata": {},
   "outputs": [
    {
     "name": "stdout",
     "output_type": "stream",
     "text": [
      "Epoch 1/30\n",
      "10/10 [==============================] - 0s 9ms/step - loss: 39.0246\n",
      "Epoch 2/30\n",
      "10/10 [==============================] - 0s 10ms/step - loss: 13.0701\n",
      "Epoch 3/30\n",
      "10/10 [==============================] - 0s 9ms/step - loss: 26.3252\n",
      "Epoch 4/30\n",
      "10/10 [==============================] - 0s 9ms/step - loss: 51.3995\n",
      "Epoch 5/30\n",
      "10/10 [==============================] - 0s 10ms/step - loss: 31.5682\n",
      "Epoch 6/30\n",
      "10/10 [==============================] - 0s 10ms/step - loss: 18.8660\n",
      "Epoch 7/30\n",
      "10/10 [==============================] - 0s 9ms/step - loss: 55.4592\n",
      "Epoch 8/30\n",
      "10/10 [==============================] - 0s 11ms/step - loss: 33.5533\n",
      "Epoch 9/30\n",
      "10/10 [==============================] - 0s 12ms/step - loss: 19.7459\n",
      "Epoch 10/30\n",
      "10/10 [==============================] - 0s 11ms/step - loss: 14.1763\n",
      "Epoch 11/30\n",
      "10/10 [==============================] - 0s 9ms/step - loss: 24.1456\n",
      "Epoch 12/30\n",
      "10/10 [==============================] - 0s 12ms/step - loss: 14.0141\n",
      "Epoch 13/30\n",
      "10/10 [==============================] - 0s 15ms/step - loss: 33.8926\n",
      "Epoch 14/30\n",
      "10/10 [==============================] - 0s 14ms/step - loss: 27.7974\n",
      "Epoch 15/30\n",
      "10/10 [==============================] - 0s 13ms/step - loss: 23.4866\n",
      "Epoch 16/30\n",
      "10/10 [==============================] - 0s 11ms/step - loss: 21.5210\n",
      "Epoch 17/30\n",
      "10/10 [==============================] - 0s 13ms/step - loss: 17.9590\n",
      "Epoch 18/30\n",
      "10/10 [==============================] - 0s 14ms/step - loss: 25.1234\n",
      "Epoch 19/30\n",
      "10/10 [==============================] - 0s 14ms/step - loss: 53.6395\n",
      "Epoch 20/30\n",
      "10/10 [==============================] - 0s 13ms/step - loss: 35.0408\n",
      "Epoch 21/30\n",
      "10/10 [==============================] - 0s 11ms/step - loss: 16.7542\n",
      "Epoch 22/30\n",
      "10/10 [==============================] - 0s 14ms/step - loss: 11.2242\n",
      "Epoch 23/30\n",
      "10/10 [==============================] - 0s 12ms/step - loss: 14.4802\n",
      "Epoch 24/30\n",
      "10/10 [==============================] - 0s 11ms/step - loss: 46.1392\n",
      "Epoch 25/30\n",
      "10/10 [==============================] - 0s 11ms/step - loss: 38.2052\n",
      "Epoch 26/30\n",
      "10/10 [==============================] - 0s 11ms/step - loss: 10.4070\n",
      "Epoch 27/30\n",
      "10/10 [==============================] - 0s 12ms/step - loss: 16.2830\n",
      "Epoch 28/30\n",
      "10/10 [==============================] - 0s 13ms/step - loss: 53.9115\n",
      "Epoch 29/30\n",
      "10/10 [==============================] - 0s 11ms/step - loss: 16.0675\n",
      "Epoch 30/30\n",
      "10/10 [==============================] - 0s 12ms/step - loss: 13.4374\n"
     ]
    },
    {
     "data": {
      "text/plain": [
       "<keras.callbacks.callbacks.History at 0x1f6a7855888>"
      ]
     },
     "execution_count": 50,
     "metadata": {},
     "output_type": "execute_result"
    }
   ],
   "source": [
    "model_sj.fit_generator(generator=generator_sj, steps_per_epoch=10, epochs=30)"
   ]
  },
  {
   "cell_type": "code",
   "execution_count": 52,
   "metadata": {},
   "outputs": [],
   "source": [
    "model_iq = Sequential()\n",
    "model_iq.add(LSTM(50, activation='relu', return_sequences=True, input_shape=(1, 23)))\n",
    "model_iq.add(LSTM(50, activation='relu', return_sequences=True))\n",
    "model_iq.add(LSTM(30, activation='relu'))\n",
    "model_iq.add(Dense(1))\n",
    "model_iq.compile(optimizer='adam', loss='mae')"
   ]
  },
  {
   "cell_type": "code",
   "execution_count": 53,
   "metadata": {},
   "outputs": [
    {
     "name": "stdout",
     "output_type": "stream",
     "text": [
      "Epoch 1/30\n",
      "10/10 [==============================] - 4s 391ms/step - loss: 7.9990\n",
      "Epoch 2/30\n",
      "10/10 [==============================] - 0s 8ms/step - loss: 6.1916\n",
      "Epoch 3/30\n",
      "10/10 [==============================] - 0s 9ms/step - loss: 11.0731\n",
      "Epoch 4/30\n",
      "10/10 [==============================] - 0s 8ms/step - loss: 4.0611\n",
      "Epoch 5/30\n",
      "10/10 [==============================] - 0s 8ms/step - loss: 5.1606\n",
      "Epoch 6/30\n",
      "10/10 [==============================] - 0s 8ms/step - loss: 6.3885\n",
      "Epoch 7/30\n",
      "10/10 [==============================] - 0s 9ms/step - loss: 6.7299\n",
      "Epoch 8/30\n",
      "10/10 [==============================] - 0s 8ms/step - loss: 5.7141\n",
      "Epoch 9/30\n",
      "10/10 [==============================] - 0s 8ms/step - loss: 7.6489\n",
      "Epoch 10/30\n",
      "10/10 [==============================] - 0s 7ms/step - loss: 7.0792\n",
      "Epoch 11/30\n",
      "10/10 [==============================] - 0s 9ms/step - loss: 8.1562\n",
      "Epoch 12/30\n",
      "10/10 [==============================] - 0s 13ms/step - loss: 6.9072\n",
      "Epoch 13/30\n",
      "10/10 [==============================] - 0s 13ms/step - loss: 4.6469\n",
      "Epoch 14/30\n",
      "10/10 [==============================] - 0s 11ms/step - loss: 3.3431\n",
      "Epoch 15/30\n",
      "10/10 [==============================] - 0s 8ms/step - loss: 3.5503\n",
      "Epoch 16/30\n",
      "10/10 [==============================] - 0s 8ms/step - loss: 7.0448\n",
      "Epoch 17/30\n",
      "10/10 [==============================] - 0s 8ms/step - loss: 5.3860\n",
      "Epoch 18/30\n",
      "10/10 [==============================] - 0s 8ms/step - loss: 4.9911\n",
      "Epoch 19/30\n",
      "10/10 [==============================] - 0s 10ms/step - loss: 8.4902\n",
      "Epoch 20/30\n",
      "10/10 [==============================] - 0s 9ms/step - loss: 4.9306\n",
      "Epoch 21/30\n",
      "10/10 [==============================] - 0s 9ms/step - loss: 5.1073\n",
      "Epoch 22/30\n",
      "10/10 [==============================] - 0s 9ms/step - loss: 6.4478\n",
      "Epoch 23/30\n",
      "10/10 [==============================] - 0s 9ms/step - loss: 8.2942\n",
      "Epoch 24/30\n",
      "10/10 [==============================] - 0s 8ms/step - loss: 7.1014\n",
      "Epoch 25/30\n",
      "10/10 [==============================] - 0s 9ms/step - loss: 11.7752\n",
      "Epoch 26/30\n",
      "10/10 [==============================] - 0s 10ms/step - loss: 5.5523\n",
      "Epoch 27/30\n",
      "10/10 [==============================] - 0s 10ms/step - loss: 2.4844\n",
      "Epoch 28/30\n",
      "10/10 [==============================] - 0s 9ms/step - loss: 5.6567\n",
      "Epoch 29/30\n",
      "10/10 [==============================] - 0s 8ms/step - loss: 2.9561\n",
      "Epoch 30/30\n",
      "10/10 [==============================] - 0s 9ms/step - loss: 5.9855\n"
     ]
    },
    {
     "data": {
      "text/plain": [
       "<keras.callbacks.callbacks.History at 0x1f98936ccc8>"
      ]
     },
     "execution_count": 53,
     "metadata": {},
     "output_type": "execute_result"
    }
   ],
   "source": [
    "model_iq.fit_generator(generator=generator_iq, steps_per_epoch=10, epochs=30)"
   ]
  },
  {
   "cell_type": "code",
   "execution_count": 60,
   "metadata": {},
   "outputs": [],
   "source": [
    "generator_predict_sj = TimeseriesGenerator(X_test_sj_scaled, X_test_sj_scaled, length=1, batch_size=1)\n",
    "generator_predict_iq = TimeseriesGenerator(X_test_iq_scaled, X_test_iq_scaled, length=1, batch_size=1)"
   ]
  },
  {
   "cell_type": "code",
   "execution_count": 56,
   "metadata": {},
   "outputs": [],
   "source": [
    "predict_sj = model_sj.predict_generator(generator=generator_predict_sj)"
   ]
  },
  {
   "cell_type": "code",
   "execution_count": 61,
   "metadata": {},
   "outputs": [],
   "source": [
    "predict_iq = model_iq.predict_generator(generator=generator_predict_iq)"
   ]
  },
  {
   "cell_type": "code",
   "execution_count": 62,
   "metadata": {},
   "outputs": [
    {
     "data": {
      "text/html": [
       "<div>\n",
       "<style scoped>\n",
       "    .dataframe tbody tr th:only-of-type {\n",
       "        vertical-align: middle;\n",
       "    }\n",
       "\n",
       "    .dataframe tbody tr th {\n",
       "        vertical-align: top;\n",
       "    }\n",
       "\n",
       "    .dataframe thead th {\n",
       "        text-align: right;\n",
       "    }\n",
       "</style>\n",
       "<table border=\"1\" class=\"dataframe\">\n",
       "  <thead>\n",
       "    <tr style=\"text-align: right;\">\n",
       "      <th></th>\n",
       "      <th>total_cases</th>\n",
       "    </tr>\n",
       "  </thead>\n",
       "  <tbody>\n",
       "    <tr>\n",
       "      <th>0</th>\n",
       "      <td>9.559126</td>\n",
       "    </tr>\n",
       "    <tr>\n",
       "      <th>1</th>\n",
       "      <td>7.018054</td>\n",
       "    </tr>\n",
       "    <tr>\n",
       "      <th>2</th>\n",
       "      <td>12.366661</td>\n",
       "    </tr>\n",
       "    <tr>\n",
       "      <th>3</th>\n",
       "      <td>11.878613</td>\n",
       "    </tr>\n",
       "    <tr>\n",
       "      <th>4</th>\n",
       "      <td>11.611992</td>\n",
       "    </tr>\n",
       "  </tbody>\n",
       "</table>\n",
       "</div>"
      ],
      "text/plain": [
       "   total_cases\n",
       "0     9.559126\n",
       "1     7.018054\n",
       "2    12.366661\n",
       "3    11.878613\n",
       "4    11.611992"
      ]
     },
     "execution_count": 62,
     "metadata": {},
     "output_type": "execute_result"
    }
   ],
   "source": [
    "result_cases_sj = pd.DataFrame(predict_sj)\n",
    "result_cases_sj.columns = ['total_cases']\n",
    "result_cases_sj.head()"
   ]
  },
  {
   "cell_type": "code",
   "execution_count": 89,
   "metadata": {},
   "outputs": [
    {
     "data": {
      "text/html": [
       "<div>\n",
       "<style scoped>\n",
       "    .dataframe tbody tr th:only-of-type {\n",
       "        vertical-align: middle;\n",
       "    }\n",
       "\n",
       "    .dataframe tbody tr th {\n",
       "        vertical-align: top;\n",
       "    }\n",
       "\n",
       "    .dataframe thead th {\n",
       "        text-align: right;\n",
       "    }\n",
       "</style>\n",
       "<table border=\"1\" class=\"dataframe\">\n",
       "  <thead>\n",
       "    <tr style=\"text-align: right;\">\n",
       "      <th></th>\n",
       "      <th>total_cases</th>\n",
       "    </tr>\n",
       "  </thead>\n",
       "  <tbody>\n",
       "    <tr>\n",
       "      <th>0</th>\n",
       "      <td>7.993396</td>\n",
       "    </tr>\n",
       "    <tr>\n",
       "      <th>1</th>\n",
       "      <td>7.414385</td>\n",
       "    </tr>\n",
       "    <tr>\n",
       "      <th>2</th>\n",
       "      <td>8.760790</td>\n",
       "    </tr>\n",
       "    <tr>\n",
       "      <th>3</th>\n",
       "      <td>2.794194</td>\n",
       "    </tr>\n",
       "    <tr>\n",
       "      <th>4</th>\n",
       "      <td>6.567686</td>\n",
       "    </tr>\n",
       "  </tbody>\n",
       "</table>\n",
       "</div>"
      ],
      "text/plain": [
       "   total_cases\n",
       "0     7.993396\n",
       "1     7.414385\n",
       "2     8.760790\n",
       "3     2.794194\n",
       "4     6.567686"
      ]
     },
     "execution_count": 89,
     "metadata": {},
     "output_type": "execute_result"
    }
   ],
   "source": [
    "result_cases_iq = pd.DataFrame(predict_iq)\n",
    "result_cases_iq.columns = ['total_cases']\n",
    "result_cases_iq.head()"
   ]
  },
  {
   "cell_type": "code",
   "execution_count": 86,
   "metadata": {},
   "outputs": [
    {
     "name": "stdout",
     "output_type": "stream",
     "text": [
      "<class 'pandas.core.frame.DataFrame'>\n",
      "RangeIndex: 260 entries, 0 to 259\n",
      "Data columns (total 1 columns):\n",
      "total_cases    260 non-null float64\n",
      "dtypes: float64(1)\n",
      "memory usage: 2.2 KB\n"
     ]
    }
   ],
   "source": [
    "new_row= pd.DataFrame({3})\n",
    "new_row.columns = ['total_cases']\n",
    "result_sj = pd.concat([new_row,result_cases_sj]).reset_index().drop(['index'], axis=1)\n",
    "result_sj.info()"
   ]
  },
  {
   "cell_type": "code",
   "execution_count": 87,
   "metadata": {},
   "outputs": [
    {
     "data": {
      "text/html": [
       "<div>\n",
       "<style scoped>\n",
       "    .dataframe tbody tr th:only-of-type {\n",
       "        vertical-align: middle;\n",
       "    }\n",
       "\n",
       "    .dataframe tbody tr th {\n",
       "        vertical-align: top;\n",
       "    }\n",
       "\n",
       "    .dataframe thead th {\n",
       "        text-align: right;\n",
       "    }\n",
       "</style>\n",
       "<table border=\"1\" class=\"dataframe\">\n",
       "  <thead>\n",
       "    <tr style=\"text-align: right;\">\n",
       "      <th></th>\n",
       "      <th>total_cases</th>\n",
       "    </tr>\n",
       "  </thead>\n",
       "  <tbody>\n",
       "    <tr>\n",
       "      <th>0</th>\n",
       "      <td>3.000000</td>\n",
       "    </tr>\n",
       "    <tr>\n",
       "      <th>1</th>\n",
       "      <td>9.559126</td>\n",
       "    </tr>\n",
       "    <tr>\n",
       "      <th>2</th>\n",
       "      <td>7.018054</td>\n",
       "    </tr>\n",
       "    <tr>\n",
       "      <th>3</th>\n",
       "      <td>12.366661</td>\n",
       "    </tr>\n",
       "    <tr>\n",
       "      <th>4</th>\n",
       "      <td>11.878613</td>\n",
       "    </tr>\n",
       "  </tbody>\n",
       "</table>\n",
       "</div>"
      ],
      "text/plain": [
       "   total_cases\n",
       "0     3.000000\n",
       "1     9.559126\n",
       "2     7.018054\n",
       "3    12.366661\n",
       "4    11.878613"
      ]
     },
     "execution_count": 87,
     "metadata": {},
     "output_type": "execute_result"
    }
   ],
   "source": [
    "result_sj.head()"
   ]
  },
  {
   "cell_type": "code",
   "execution_count": 90,
   "metadata": {},
   "outputs": [
    {
     "name": "stdout",
     "output_type": "stream",
     "text": [
      "<class 'pandas.core.frame.DataFrame'>\n",
      "RangeIndex: 156 entries, 0 to 155\n",
      "Data columns (total 1 columns):\n",
      "total_cases    156 non-null float64\n",
      "dtypes: float64(1)\n",
      "memory usage: 1.3 KB\n"
     ]
    }
   ],
   "source": [
    "result_iq = pd.concat([new_row,result_cases_iq]).reset_index().drop(['index'], axis=1)\n",
    "result_iq.info()"
   ]
  },
  {
   "cell_type": "code",
   "execution_count": 94,
   "metadata": {},
   "outputs": [
    {
     "data": {
      "text/html": [
       "<div>\n",
       "<style scoped>\n",
       "    .dataframe tbody tr th:only-of-type {\n",
       "        vertical-align: middle;\n",
       "    }\n",
       "\n",
       "    .dataframe tbody tr th {\n",
       "        vertical-align: top;\n",
       "    }\n",
       "\n",
       "    .dataframe thead th {\n",
       "        text-align: right;\n",
       "    }\n",
       "</style>\n",
       "<table border=\"1\" class=\"dataframe\">\n",
       "  <thead>\n",
       "    <tr style=\"text-align: right;\">\n",
       "      <th></th>\n",
       "      <th>city</th>\n",
       "      <th>year</th>\n",
       "      <th>weekofyear</th>\n",
       "    </tr>\n",
       "  </thead>\n",
       "  <tbody>\n",
       "    <tr>\n",
       "      <th>260</th>\n",
       "      <td>iq</td>\n",
       "      <td>2010</td>\n",
       "      <td>26</td>\n",
       "    </tr>\n",
       "    <tr>\n",
       "      <th>261</th>\n",
       "      <td>iq</td>\n",
       "      <td>2010</td>\n",
       "      <td>27</td>\n",
       "    </tr>\n",
       "    <tr>\n",
       "      <th>262</th>\n",
       "      <td>iq</td>\n",
       "      <td>2010</td>\n",
       "      <td>28</td>\n",
       "    </tr>\n",
       "    <tr>\n",
       "      <th>263</th>\n",
       "      <td>iq</td>\n",
       "      <td>2010</td>\n",
       "      <td>29</td>\n",
       "    </tr>\n",
       "    <tr>\n",
       "      <th>264</th>\n",
       "      <td>iq</td>\n",
       "      <td>2010</td>\n",
       "      <td>30</td>\n",
       "    </tr>\n",
       "  </tbody>\n",
       "</table>\n",
       "</div>"
      ],
      "text/plain": [
       "    city  year  weekofyear\n",
       "260   iq  2010          26\n",
       "261   iq  2010          27\n",
       "262   iq  2010          28\n",
       "263   iq  2010          29\n",
       "264   iq  2010          30"
      ]
     },
     "execution_count": 94,
     "metadata": {},
     "output_type": "execute_result"
    }
   ],
   "source": [
    "result_columns_iq.head()"
   ]
  },
  {
   "cell_type": "code",
   "execution_count": 96,
   "metadata": {},
   "outputs": [
    {
     "data": {
      "text/html": [
       "<div>\n",
       "<style scoped>\n",
       "    .dataframe tbody tr th:only-of-type {\n",
       "        vertical-align: middle;\n",
       "    }\n",
       "\n",
       "    .dataframe tbody tr th {\n",
       "        vertical-align: top;\n",
       "    }\n",
       "\n",
       "    .dataframe thead th {\n",
       "        text-align: right;\n",
       "    }\n",
       "</style>\n",
       "<table border=\"1\" class=\"dataframe\">\n",
       "  <thead>\n",
       "    <tr style=\"text-align: right;\">\n",
       "      <th></th>\n",
       "      <th>city</th>\n",
       "      <th>year</th>\n",
       "      <th>weekofyear</th>\n",
       "      <th>total_cases</th>\n",
       "    </tr>\n",
       "  </thead>\n",
       "  <tbody>\n",
       "    <tr>\n",
       "      <th>0</th>\n",
       "      <td>sj</td>\n",
       "      <td>2008</td>\n",
       "      <td>18</td>\n",
       "      <td>3</td>\n",
       "    </tr>\n",
       "    <tr>\n",
       "      <th>1</th>\n",
       "      <td>sj</td>\n",
       "      <td>2008</td>\n",
       "      <td>19</td>\n",
       "      <td>10</td>\n",
       "    </tr>\n",
       "    <tr>\n",
       "      <th>2</th>\n",
       "      <td>sj</td>\n",
       "      <td>2008</td>\n",
       "      <td>20</td>\n",
       "      <td>7</td>\n",
       "    </tr>\n",
       "    <tr>\n",
       "      <th>3</th>\n",
       "      <td>sj</td>\n",
       "      <td>2008</td>\n",
       "      <td>21</td>\n",
       "      <td>12</td>\n",
       "    </tr>\n",
       "    <tr>\n",
       "      <th>4</th>\n",
       "      <td>sj</td>\n",
       "      <td>2008</td>\n",
       "      <td>22</td>\n",
       "      <td>12</td>\n",
       "    </tr>\n",
       "  </tbody>\n",
       "</table>\n",
       "</div>"
      ],
      "text/plain": [
       "  city  year  weekofyear  total_cases\n",
       "0   sj  2008          18            3\n",
       "1   sj  2008          19           10\n",
       "2   sj  2008          20            7\n",
       "3   sj  2008          21           12\n",
       "4   sj  2008          22           12"
      ]
     },
     "execution_count": 96,
     "metadata": {},
     "output_type": "execute_result"
    }
   ],
   "source": [
    "result_columns_sj = X_test[X_test.city=='sj'][['city','year','weekofyear']]\n",
    "result_cases_sj = pd.DataFrame(predict_sj)\n",
    "result_cases_sj.columns = ['total_cases']\n",
    "result_df_sj = pd.concat([result_columns_sj, result_sj], axis=1)\n",
    "result_df_sj['total_cases'] = result_df_sj['total_cases'].round().astype(int)\n",
    "result_df_sj.head()"
   ]
  },
  {
   "cell_type": "code",
   "execution_count": 95,
   "metadata": {},
   "outputs": [
    {
     "data": {
      "text/html": [
       "<div>\n",
       "<style scoped>\n",
       "    .dataframe tbody tr th:only-of-type {\n",
       "        vertical-align: middle;\n",
       "    }\n",
       "\n",
       "    .dataframe tbody tr th {\n",
       "        vertical-align: top;\n",
       "    }\n",
       "\n",
       "    .dataframe thead th {\n",
       "        text-align: right;\n",
       "    }\n",
       "</style>\n",
       "<table border=\"1\" class=\"dataframe\">\n",
       "  <thead>\n",
       "    <tr style=\"text-align: right;\">\n",
       "      <th></th>\n",
       "      <th>city</th>\n",
       "      <th>year</th>\n",
       "      <th>weekofyear</th>\n",
       "      <th>total_cases</th>\n",
       "    </tr>\n",
       "  </thead>\n",
       "  <tbody>\n",
       "    <tr>\n",
       "      <th>0</th>\n",
       "      <td>iq</td>\n",
       "      <td>2010</td>\n",
       "      <td>26</td>\n",
       "      <td>3</td>\n",
       "    </tr>\n",
       "    <tr>\n",
       "      <th>1</th>\n",
       "      <td>iq</td>\n",
       "      <td>2010</td>\n",
       "      <td>27</td>\n",
       "      <td>8</td>\n",
       "    </tr>\n",
       "    <tr>\n",
       "      <th>2</th>\n",
       "      <td>iq</td>\n",
       "      <td>2010</td>\n",
       "      <td>28</td>\n",
       "      <td>7</td>\n",
       "    </tr>\n",
       "    <tr>\n",
       "      <th>3</th>\n",
       "      <td>iq</td>\n",
       "      <td>2010</td>\n",
       "      <td>29</td>\n",
       "      <td>9</td>\n",
       "    </tr>\n",
       "    <tr>\n",
       "      <th>4</th>\n",
       "      <td>iq</td>\n",
       "      <td>2010</td>\n",
       "      <td>30</td>\n",
       "      <td>3</td>\n",
       "    </tr>\n",
       "  </tbody>\n",
       "</table>\n",
       "</div>"
      ],
      "text/plain": [
       "  city  year  weekofyear  total_cases\n",
       "0   iq  2010          26            3\n",
       "1   iq  2010          27            8\n",
       "2   iq  2010          28            7\n",
       "3   iq  2010          29            9\n",
       "4   iq  2010          30            3"
      ]
     },
     "execution_count": 95,
     "metadata": {},
     "output_type": "execute_result"
    }
   ],
   "source": [
    "result_columns_iq = X_test[X_test.city=='iq'][['city','year','weekofyear']]\n",
    "result_columns_iq = result_columns_iq.reset_index()\n",
    "result_df_iq = pd.concat([result_columns_iq, result_iq], axis=1)\n",
    "result_df_iq['total_cases'] = result_df_iq['total_cases'].round().astype(int)\n",
    "result_df_iq = result_df_iq.drop(['index'], axis=1)\n",
    "result_df_iq.head()"
   ]
  },
  {
   "cell_type": "code",
   "execution_count": 97,
   "metadata": {},
   "outputs": [],
   "source": [
    "result = pd.concat([result_df_sj,result_df_iq], axis=0)\n",
    "result.head()\n",
    "result.to_csv('lstm_2_city_1_slice.csv', index=False)"
   ]
  },
  {
   "cell_type": "code",
   "execution_count": null,
   "metadata": {},
   "outputs": [],
   "source": []
  }
 ],
 "metadata": {
  "kernelspec": {
   "display_name": "Python 3",
   "language": "python",
   "name": "python3"
  },
  "language_info": {
   "codemirror_mode": {
    "name": "ipython",
    "version": 3
   },
   "file_extension": ".py",
   "mimetype": "text/x-python",
   "name": "python",
   "nbconvert_exporter": "python",
   "pygments_lexer": "ipython3",
   "version": "3.7.4"
  }
 },
 "nbformat": 4,
 "nbformat_minor": 4
}
