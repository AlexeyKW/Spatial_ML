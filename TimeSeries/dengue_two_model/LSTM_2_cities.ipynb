{
 "cells": [
  {
   "cell_type": "markdown",
   "metadata": {},
   "source": [
    "#### Score: 30.0505"
   ]
  },
  {
   "cell_type": "code",
   "execution_count": 1,
   "metadata": {},
   "outputs": [
    {
     "name": "stderr",
     "output_type": "stream",
     "text": [
      "Using TensorFlow backend.\n"
     ]
    }
   ],
   "source": [
    "import numpy as np\n",
    "import matplotlib.pyplot as plt\n",
    "import pandas as pd\n",
    "import seaborn as sns\n",
    "from keras.models import Sequential\n",
    "from keras.layers import Dense\n",
    "from keras.layers import LSTM\n",
    "from keras.layers import Dropout\n",
    "from sklearn.preprocessing import MinMaxScaler\n",
    "from sklearn.metrics import mean_squared_error\n",
    "from scipy import stats"
   ]
  },
  {
   "cell_type": "code",
   "execution_count": 6,
   "metadata": {},
   "outputs": [],
   "source": [
    "X_train = pd.read_csv('data_dengue/dengue_features_train.csv', index_col=None)\n",
    "df_y_train = pd.read_csv('data_dengue/dengue_labels_train.csv', index_col=None)\n",
    "X_test = pd.read_csv('data_dengue/dengue_features_test.csv', index_col=None)"
   ]
  },
  {
   "cell_type": "code",
   "execution_count": 7,
   "metadata": {},
   "outputs": [],
   "source": [
    "X_train['week_start_date'] = pd.to_datetime(X_train['week_start_date'])\n",
    "X_train['week_start_date'] = X_train['week_start_date'] - pd.to_datetime('1980-01-01')\n",
    "X_train['week_start_date'] = pd.to_numeric(X_train['week_start_date'])/100000000000\n",
    "X_train_new = X_train.fillna(X_train.mean())\n",
    "X_train_sj=X_train_new[X_train_new.city=='sj']\n",
    "X_train_iq=X_train_new[X_train_new.city=='iq']\n",
    "X_train_sj = X_train_sj.drop(['city'], axis=1)\n",
    "X_train_iq = X_train_iq.drop(['city'], axis=1)"
   ]
  },
  {
   "cell_type": "code",
   "execution_count": 8,
   "metadata": {},
   "outputs": [],
   "source": [
    "X_test['week_start_date'] = pd.to_datetime(X_test['week_start_date'])\n",
    "X_test['week_start_date'] = X_test['week_start_date'] - pd.to_datetime('1980-01-01')\n",
    "X_test['week_start_date'] = pd.to_numeric(X_test['week_start_date'])/100000000000\n",
    "X_test_new = X_test.fillna(X_test.mean())\n",
    "X_test_sj=X_test_new[X_test_new.city=='sj']\n",
    "X_test_iq=X_test_new[X_test_new.city=='iq']\n",
    "X_test_sj = X_test_sj.drop(['city'], axis=1)\n",
    "X_test_iq = X_test_iq.drop(['city'], axis=1)"
   ]
  },
  {
   "cell_type": "code",
   "execution_count": 9,
   "metadata": {},
   "outputs": [],
   "source": [
    "X_train_sj_float = X_train_sj.astype('float64')\n",
    "X_train_iq_float = X_train_iq.astype('float64')\n",
    "X_test_sj_float = X_test_sj.astype('float64')\n",
    "X_test_iq_float = X_test_iq.astype('float64')"
   ]
  },
  {
   "cell_type": "code",
   "execution_count": 10,
   "metadata": {},
   "outputs": [],
   "source": [
    "min_max_scaler = MinMaxScaler(feature_range=(0, 1))\n",
    "X_train_sj_scaled = min_max_scaler.fit_transform(X_train_sj_float)\n",
    "X_train_iq_scaled = min_max_scaler.fit_transform(X_train_iq_float)\n",
    "X_test_sj_scaled = min_max_scaler.transform(X_test_sj_float)\n",
    "X_test_iq_scaled = min_max_scaler.transform(X_test_iq_float)"
   ]
  },
  {
   "cell_type": "code",
   "execution_count": 11,
   "metadata": {},
   "outputs": [
    {
     "name": "stdout",
     "output_type": "stream",
     "text": [
      "[[0.         0.32692308 0.         0.58783972 0.62676332 0.52370092\n",
      "  0.54188858 0.03179724 0.26100844 0.26918536 0.33993342 0.30769231\n",
      "  0.45205479 0.05609115 0.3181382  0.03179724 0.29739227 0.35849109\n",
      "  0.35968379 0.4403183  0.30337079 0.28205128 0.05230467]\n",
      " [0.         0.34615385 0.00106594 0.64041572 0.66981079 0.43529974\n",
      "  0.49214226 0.05842294 0.36299338 0.38488784 0.5284738  0.47692308\n",
      "  0.52054795 0.0314461  0.51021387 0.05842294 0.47346033 0.28598728\n",
      "  0.53557312 0.34217507 0.56179775 0.56410256 0.02811376]\n",
      " [0.         0.36538462 0.00213187 0.48741177 0.70428426 0.42268026\n",
      "  0.52666235 0.08842806 0.45402692 0.45690673 0.7103557  0.41538462\n",
      "  0.64383562 0.04574934 0.73498766 0.08842806 0.66450897 0.26584733\n",
      "  0.53557312 0.36339523 0.61797753 0.64102564 0.13533835]\n",
      " [0.         0.38461538 0.00319781 0.59454599 0.78500526 0.59484481\n",
      "  0.67286631 0.03932412 0.48688113 0.51475797 0.69511127 0.55384615\n",
      "  0.60273973 0.02436459 0.65265972 0.03932412 0.64176068 0.30209923\n",
      "  0.64031621 0.41644562 0.74157303 0.70512821 0.01307617]\n",
      " [0.         0.40384615 0.00426374 0.66964931 0.80418719 0.65269924\n",
      "  0.69861342 0.01925243 0.57175451 0.58677686 0.75784125 0.63076923\n",
      "  0.67123288 0.02138475 0.65855498 0.01925243 0.71130017 0.46724682\n",
      "  0.84387352 0.89920424 0.93258427 0.78205128 0.01896044]]\n",
      "(936, 23)\n"
     ]
    }
   ],
   "source": [
    "print(X_train_sj_scaled[:5, :])\n",
    "print(X_train_sj_scaled.shape)"
   ]
  },
  {
   "cell_type": "code",
   "execution_count": 12,
   "metadata": {},
   "outputs": [],
   "source": [
    "train_1s_sj = X_train_sj_scaled.reshape(X_train_sj_scaled.shape[0],1,X_train_sj_scaled.shape[1])\n",
    "train_1s_iq = X_train_iq_scaled.reshape(X_train_iq_scaled.shape[0],1,X_train_iq_scaled.shape[1])"
   ]
  },
  {
   "cell_type": "code",
   "execution_count": 14,
   "metadata": {},
   "outputs": [
    {
     "data": {
      "text/plain": [
       "(936, 1, 23)"
      ]
     },
     "execution_count": 14,
     "metadata": {},
     "output_type": "execute_result"
    }
   ],
   "source": [
    "train_1s_sj.shape"
   ]
  },
  {
   "cell_type": "code",
   "execution_count": 15,
   "metadata": {},
   "outputs": [
    {
     "data": {
      "text/plain": [
       "(936,)"
      ]
     },
     "execution_count": 15,
     "metadata": {},
     "output_type": "execute_result"
    }
   ],
   "source": [
    "data_y_1s_sj = np.array(df_y_train[df_y_train.city=='sj'][\"total_cases\"])\n",
    "data_y_1s_iq = np.array(df_y_train[df_y_train.city=='iq'][\"total_cases\"])\n",
    "data_y_1s_sj.shape"
   ]
  },
  {
   "cell_type": "code",
   "execution_count": 16,
   "metadata": {},
   "outputs": [],
   "source": [
    "model_1s_sj = Sequential()\n",
    "model_1s_sj.add(LSTM(50, activation='relu', return_sequences=True, input_shape=(1, 23)))\n",
    "model_1s_sj.add(LSTM(50, activation='relu', return_sequences=True))\n",
    "model_1s_sj.add(LSTM(30, activation='relu'))\n",
    "model_1s_sj.add(Dense(1))\n",
    "model_1s_sj.compile(optimizer='adam', loss='mae')"
   ]
  },
  {
   "cell_type": "code",
   "execution_count": 19,
   "metadata": {},
   "outputs": [
    {
     "name": "stdout",
     "output_type": "stream",
     "text": [
      "WARNING:tensorflow:From D:\\Miniconda3\\lib\\site-packages\\keras\\backend\\tensorflow_backend.py:422: The name tf.global_variables is deprecated. Please use tf.compat.v1.global_variables instead.\n",
      "\n"
     ]
    },
    {
     "data": {
      "text/plain": [
       "<keras.callbacks.callbacks.History at 0x1c57de38508>"
      ]
     },
     "execution_count": 19,
     "metadata": {},
     "output_type": "execute_result"
    }
   ],
   "source": [
    "%%time\n",
    "model_1s_sj.fit(train_1s_sj, data_y_1s_sj, epochs=400, verbose=0)"
   ]
  },
  {
   "cell_type": "code",
   "execution_count": 20,
   "metadata": {},
   "outputs": [],
   "source": [
    "model_1s_iq = Sequential()\n",
    "model_1s_iq.add(LSTM(50, activation='relu', return_sequences=True, input_shape=(1, 23)))\n",
    "model_1s_iq.add(LSTM(50, activation='relu', return_sequences=True))\n",
    "model_1s_iq.add(LSTM(30, activation='relu'))\n",
    "model_1s_iq.add(Dense(1))\n",
    "model_1s_iq.compile(optimizer='adam', loss='mae')"
   ]
  },
  {
   "cell_type": "code",
   "execution_count": 21,
   "metadata": {},
   "outputs": [
    {
     "name": "stdout",
     "output_type": "stream",
     "text": [
      "Wall time: 44 s\n"
     ]
    },
    {
     "data": {
      "text/plain": [
       "<keras.callbacks.callbacks.History at 0x1c51f4bab88>"
      ]
     },
     "execution_count": 21,
     "metadata": {},
     "output_type": "execute_result"
    }
   ],
   "source": [
    "%%time\n",
    "model_1s_iq.fit(train_1s_iq, data_y_1s_iq, epochs=400, verbose=0)"
   ]
  },
  {
   "cell_type": "code",
   "execution_count": 22,
   "metadata": {},
   "outputs": [
    {
     "data": {
      "text/plain": [
       "(260, 1, 23)"
      ]
     },
     "execution_count": 22,
     "metadata": {},
     "output_type": "execute_result"
    }
   ],
   "source": [
    "data_1s_test_sj = X_test_sj_scaled.reshape(X_test_sj_scaled.shape[0],1,X_test_sj_scaled.shape[1])\n",
    "data_1s_test_iq = X_test_iq_scaled.reshape(X_test_iq_scaled.shape[0],1,X_test_iq_scaled.shape[1])\n",
    "data_1s_test_sj.shape"
   ]
  },
  {
   "cell_type": "code",
   "execution_count": 23,
   "metadata": {},
   "outputs": [],
   "source": [
    "predict_sj = model_1s_sj.predict(data_1s_test_sj)"
   ]
  },
  {
   "cell_type": "code",
   "execution_count": 24,
   "metadata": {},
   "outputs": [],
   "source": [
    "predict_iq = model_1s_iq.predict(data_1s_test_iq)"
   ]
  },
  {
   "cell_type": "code",
   "execution_count": 26,
   "metadata": {},
   "outputs": [
    {
     "data": {
      "text/html": [
       "<div>\n",
       "<style scoped>\n",
       "    .dataframe tbody tr th:only-of-type {\n",
       "        vertical-align: middle;\n",
       "    }\n",
       "\n",
       "    .dataframe tbody tr th {\n",
       "        vertical-align: top;\n",
       "    }\n",
       "\n",
       "    .dataframe thead th {\n",
       "        text-align: right;\n",
       "    }\n",
       "</style>\n",
       "<table border=\"1\" class=\"dataframe\">\n",
       "  <thead>\n",
       "    <tr style=\"text-align: right;\">\n",
       "      <th></th>\n",
       "      <th>city</th>\n",
       "      <th>year</th>\n",
       "      <th>weekofyear</th>\n",
       "      <th>total_cases</th>\n",
       "    </tr>\n",
       "  </thead>\n",
       "  <tbody>\n",
       "    <tr>\n",
       "      <th>0</th>\n",
       "      <td>sj</td>\n",
       "      <td>2008</td>\n",
       "      <td>18</td>\n",
       "      <td>4</td>\n",
       "    </tr>\n",
       "    <tr>\n",
       "      <th>1</th>\n",
       "      <td>sj</td>\n",
       "      <td>2008</td>\n",
       "      <td>19</td>\n",
       "      <td>4</td>\n",
       "    </tr>\n",
       "    <tr>\n",
       "      <th>2</th>\n",
       "      <td>sj</td>\n",
       "      <td>2008</td>\n",
       "      <td>20</td>\n",
       "      <td>4</td>\n",
       "    </tr>\n",
       "    <tr>\n",
       "      <th>3</th>\n",
       "      <td>sj</td>\n",
       "      <td>2008</td>\n",
       "      <td>21</td>\n",
       "      <td>6</td>\n",
       "    </tr>\n",
       "    <tr>\n",
       "      <th>4</th>\n",
       "      <td>sj</td>\n",
       "      <td>2008</td>\n",
       "      <td>22</td>\n",
       "      <td>6</td>\n",
       "    </tr>\n",
       "  </tbody>\n",
       "</table>\n",
       "</div>"
      ],
      "text/plain": [
       "  city  year  weekofyear  total_cases\n",
       "0   sj  2008          18            4\n",
       "1   sj  2008          19            4\n",
       "2   sj  2008          20            4\n",
       "3   sj  2008          21            6\n",
       "4   sj  2008          22            6"
      ]
     },
     "execution_count": 26,
     "metadata": {},
     "output_type": "execute_result"
    }
   ],
   "source": [
    "X_test_predict = pd.read_csv('data_dengue/dengue_features_test.csv', index_col=None)\n",
    "result_columns_sj = X_test[X_test.city=='sj'][['city','year','weekofyear']]\n",
    "result_cases_sj = pd.DataFrame(predict_sj)\n",
    "result_cases_sj.columns = ['total_cases']\n",
    "result_df_sj = pd.concat([result_columns_sj, result_cases_sj], axis=1)\n",
    "result_df_sj['total_cases'] = result_df_sj['total_cases'].round().astype(int)\n",
    "result_df_sj.head()"
   ]
  },
  {
   "cell_type": "code",
   "execution_count": 31,
   "metadata": {},
   "outputs": [
    {
     "data": {
      "text/html": [
       "<div>\n",
       "<style scoped>\n",
       "    .dataframe tbody tr th:only-of-type {\n",
       "        vertical-align: middle;\n",
       "    }\n",
       "\n",
       "    .dataframe tbody tr th {\n",
       "        vertical-align: top;\n",
       "    }\n",
       "\n",
       "    .dataframe thead th {\n",
       "        text-align: right;\n",
       "    }\n",
       "</style>\n",
       "<table border=\"1\" class=\"dataframe\">\n",
       "  <thead>\n",
       "    <tr style=\"text-align: right;\">\n",
       "      <th></th>\n",
       "      <th>city</th>\n",
       "      <th>year</th>\n",
       "      <th>weekofyear</th>\n",
       "      <th>total_cases</th>\n",
       "    </tr>\n",
       "  </thead>\n",
       "  <tbody>\n",
       "    <tr>\n",
       "      <th>0</th>\n",
       "      <td>iq</td>\n",
       "      <td>2010</td>\n",
       "      <td>26</td>\n",
       "      <td>2</td>\n",
       "    </tr>\n",
       "    <tr>\n",
       "      <th>1</th>\n",
       "      <td>iq</td>\n",
       "      <td>2010</td>\n",
       "      <td>27</td>\n",
       "      <td>2</td>\n",
       "    </tr>\n",
       "    <tr>\n",
       "      <th>2</th>\n",
       "      <td>iq</td>\n",
       "      <td>2010</td>\n",
       "      <td>28</td>\n",
       "      <td>2</td>\n",
       "    </tr>\n",
       "    <tr>\n",
       "      <th>3</th>\n",
       "      <td>iq</td>\n",
       "      <td>2010</td>\n",
       "      <td>29</td>\n",
       "      <td>2</td>\n",
       "    </tr>\n",
       "    <tr>\n",
       "      <th>4</th>\n",
       "      <td>iq</td>\n",
       "      <td>2010</td>\n",
       "      <td>30</td>\n",
       "      <td>2</td>\n",
       "    </tr>\n",
       "  </tbody>\n",
       "</table>\n",
       "</div>"
      ],
      "text/plain": [
       "  city  year  weekofyear  total_cases\n",
       "0   iq  2010          26            2\n",
       "1   iq  2010          27            2\n",
       "2   iq  2010          28            2\n",
       "3   iq  2010          29            2\n",
       "4   iq  2010          30            2"
      ]
     },
     "execution_count": 31,
     "metadata": {},
     "output_type": "execute_result"
    }
   ],
   "source": [
    "result_columns_iq = X_test[X_test.city=='iq'][['city','year','weekofyear']]\n",
    "result_cases_iq = pd.DataFrame(predict_iq)\n",
    "result_cases_iq.columns = ['total_cases']\n",
    "result_columns_iq = result_columns_iq.reset_index()\n",
    "result_df_iq = pd.concat([result_columns_iq, result_cases_iq], axis=1)\n",
    "result_df_iq['total_cases'] = result_df_iq['total_cases'].round().astype(int)\n",
    "result_df_iq = result_df_iq.drop(['index'], axis=1)\n",
    "result_df_iq.head()"
   ]
  },
  {
   "cell_type": "code",
   "execution_count": 32,
   "metadata": {},
   "outputs": [
    {
     "data": {
      "text/html": [
       "<div>\n",
       "<style scoped>\n",
       "    .dataframe tbody tr th:only-of-type {\n",
       "        vertical-align: middle;\n",
       "    }\n",
       "\n",
       "    .dataframe tbody tr th {\n",
       "        vertical-align: top;\n",
       "    }\n",
       "\n",
       "    .dataframe thead th {\n",
       "        text-align: right;\n",
       "    }\n",
       "</style>\n",
       "<table border=\"1\" class=\"dataframe\">\n",
       "  <thead>\n",
       "    <tr style=\"text-align: right;\">\n",
       "      <th></th>\n",
       "      <th>city</th>\n",
       "      <th>year</th>\n",
       "      <th>weekofyear</th>\n",
       "      <th>total_cases</th>\n",
       "    </tr>\n",
       "  </thead>\n",
       "  <tbody>\n",
       "    <tr>\n",
       "      <th>0</th>\n",
       "      <td>sj</td>\n",
       "      <td>2008</td>\n",
       "      <td>18</td>\n",
       "      <td>4</td>\n",
       "    </tr>\n",
       "    <tr>\n",
       "      <th>1</th>\n",
       "      <td>sj</td>\n",
       "      <td>2008</td>\n",
       "      <td>19</td>\n",
       "      <td>4</td>\n",
       "    </tr>\n",
       "    <tr>\n",
       "      <th>2</th>\n",
       "      <td>sj</td>\n",
       "      <td>2008</td>\n",
       "      <td>20</td>\n",
       "      <td>4</td>\n",
       "    </tr>\n",
       "    <tr>\n",
       "      <th>3</th>\n",
       "      <td>sj</td>\n",
       "      <td>2008</td>\n",
       "      <td>21</td>\n",
       "      <td>6</td>\n",
       "    </tr>\n",
       "    <tr>\n",
       "      <th>4</th>\n",
       "      <td>sj</td>\n",
       "      <td>2008</td>\n",
       "      <td>22</td>\n",
       "      <td>6</td>\n",
       "    </tr>\n",
       "  </tbody>\n",
       "</table>\n",
       "</div>"
      ],
      "text/plain": [
       "  city  year  weekofyear  total_cases\n",
       "0   sj  2008          18            4\n",
       "1   sj  2008          19            4\n",
       "2   sj  2008          20            4\n",
       "3   sj  2008          21            6\n",
       "4   sj  2008          22            6"
      ]
     },
     "execution_count": 32,
     "metadata": {},
     "output_type": "execute_result"
    }
   ],
   "source": [
    "result = pd.concat([result_df_sj,result_df_iq], axis=0)\n",
    "result.head()"
   ]
  },
  {
   "cell_type": "code",
   "execution_count": 33,
   "metadata": {},
   "outputs": [],
   "source": [
    "result.to_csv('lstm_2_city_50_50_30.csv', index=False)"
   ]
  },
  {
   "cell_type": "code",
   "execution_count": null,
   "metadata": {},
   "outputs": [],
   "source": []
  }
 ],
 "metadata": {
  "kernelspec": {
   "display_name": "Python 3",
   "language": "python",
   "name": "python3"
  },
  "language_info": {
   "codemirror_mode": {
    "name": "ipython",
    "version": 3
   },
   "file_extension": ".py",
   "mimetype": "text/x-python",
   "name": "python",
   "nbconvert_exporter": "python",
   "pygments_lexer": "ipython3",
   "version": "3.7.3"
  }
 },
 "nbformat": 4,
 "nbformat_minor": 4
}
