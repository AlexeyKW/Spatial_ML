{
 "cells": [
  {
   "cell_type": "code",
   "execution_count": 1,
   "metadata": {},
   "outputs": [],
   "source": [
    "import numpy as np\n",
    "import matplotlib.pyplot as plt\n",
    "from sklearn.ensemble import RandomForestRegressor\n",
    "from sklearn.model_selection import train_test_split\n",
    "from sklearn.multioutput import MultiOutputRegressor\n",
    "import pandas as pd\n",
    "from IPython.display import display\n",
    "pd.options.display.max_columns = None\n",
    "from sklearn.preprocessing import Imputer"
   ]
  },
  {
   "cell_type": "code",
   "execution_count": 2,
   "metadata": {},
   "outputs": [],
   "source": [
    "df = pd.read_csv('data/Export_Output_2.txt', sep=';', index_col='zone_id')"
   ]
  },
  {
   "cell_type": "code",
   "execution_count": 3,
   "metadata": {},
   "outputs": [],
   "source": [
    "df_train = df[df['is_test']==0]"
   ]
  },
  {
   "cell_type": "code",
   "execution_count": 4,
   "metadata": {},
   "outputs": [],
   "source": [
    "df_test = df[df['is_test']==1]"
   ]
  },
  {
   "cell_type": "code",
   "execution_count": 5,
   "metadata": {},
   "outputs": [
    {
     "data": {
      "text/html": [
       "<div>\n",
       "<style scoped>\n",
       "    .dataframe tbody tr th:only-of-type {\n",
       "        vertical-align: middle;\n",
       "    }\n",
       "\n",
       "    .dataframe tbody tr th {\n",
       "        vertical-align: top;\n",
       "    }\n",
       "\n",
       "    .dataframe thead th {\n",
       "        text-align: right;\n",
       "    }\n",
       "</style>\n",
       "<table border=\"1\" class=\"dataframe\">\n",
       "  <thead>\n",
       "    <tr style=\"text-align: right;\">\n",
       "      <th></th>\n",
       "      <th>is_test</th>\n",
       "      <th>calls_wd0</th>\n",
       "      <th>calls_wd1</th>\n",
       "      <th>calls_wd2</th>\n",
       "      <th>calls_wd3</th>\n",
       "      <th>calls_wd4</th>\n",
       "      <th>calls_wd5</th>\n",
       "      <th>calls_wd6</th>\n",
       "      <th>DISTANCE</th>\n",
       "    </tr>\n",
       "    <tr>\n",
       "      <th>zone_id</th>\n",
       "      <th></th>\n",
       "      <th></th>\n",
       "      <th></th>\n",
       "      <th></th>\n",
       "      <th></th>\n",
       "      <th></th>\n",
       "      <th></th>\n",
       "      <th></th>\n",
       "      <th></th>\n",
       "    </tr>\n",
       "  </thead>\n",
       "  <tbody>\n",
       "    <tr>\n",
       "      <th>0</th>\n",
       "      <td>0</td>\n",
       "      <td>0.003006</td>\n",
       "      <td>0.000000e+00</td>\n",
       "      <td>6.885802e-04</td>\n",
       "      <td>0.003006</td>\n",
       "      <td>0.000000e+00</td>\n",
       "      <td>0.001374</td>\n",
       "      <td>0.007052</td>\n",
       "      <td>0.717191</td>\n",
       "    </tr>\n",
       "    <tr>\n",
       "      <th>1</th>\n",
       "      <td>0</td>\n",
       "      <td>0.000765</td>\n",
       "      <td>0.000000e+00</td>\n",
       "      <td>1.176913e-03</td>\n",
       "      <td>0.000765</td>\n",
       "      <td>0.000000e+00</td>\n",
       "      <td>0.001374</td>\n",
       "      <td>0.002818</td>\n",
       "      <td>0.710308</td>\n",
       "    </tr>\n",
       "    <tr>\n",
       "      <th>2</th>\n",
       "      <td>0</td>\n",
       "      <td>0.001322</td>\n",
       "      <td>0.000000e+00</td>\n",
       "      <td>1.020885e-03</td>\n",
       "      <td>0.001322</td>\n",
       "      <td>0.000000e+00</td>\n",
       "      <td>0.001374</td>\n",
       "      <td>0.003871</td>\n",
       "      <td>0.703446</td>\n",
       "    </tr>\n",
       "    <tr>\n",
       "      <th>3</th>\n",
       "      <td>0</td>\n",
       "      <td>0.000815</td>\n",
       "      <td>0.000000e+00</td>\n",
       "      <td>7.802124e-04</td>\n",
       "      <td>0.000815</td>\n",
       "      <td>0.000000e+00</td>\n",
       "      <td>0.001374</td>\n",
       "      <td>0.002912</td>\n",
       "      <td>0.696607</td>\n",
       "    </tr>\n",
       "    <tr>\n",
       "      <th>4</th>\n",
       "      <td>0</td>\n",
       "      <td>0.000783</td>\n",
       "      <td>1.821651e-07</td>\n",
       "      <td>7.286604e-07</td>\n",
       "      <td>0.000782</td>\n",
       "      <td>8.602241e-07</td>\n",
       "      <td>0.001374</td>\n",
       "      <td>0.002851</td>\n",
       "      <td>0.689790</td>\n",
       "    </tr>\n",
       "  </tbody>\n",
       "</table>\n",
       "</div>"
      ],
      "text/plain": [
       "         is_test  calls_wd0     calls_wd1     calls_wd2  calls_wd3  \\\n",
       "zone_id                                                              \n",
       "0              0   0.003006  0.000000e+00  6.885802e-04   0.003006   \n",
       "1              0   0.000765  0.000000e+00  1.176913e-03   0.000765   \n",
       "2              0   0.001322  0.000000e+00  1.020885e-03   0.001322   \n",
       "3              0   0.000815  0.000000e+00  7.802124e-04   0.000815   \n",
       "4              0   0.000783  1.821651e-07  7.286604e-07   0.000782   \n",
       "\n",
       "            calls_wd4  calls_wd5  calls_wd6  DISTANCE  \n",
       "zone_id                                                \n",
       "0        0.000000e+00   0.001374   0.007052  0.717191  \n",
       "1        0.000000e+00   0.001374   0.002818  0.710308  \n",
       "2        0.000000e+00   0.001374   0.003871  0.703446  \n",
       "3        0.000000e+00   0.001374   0.002912  0.696607  \n",
       "4        8.602241e-07   0.001374   0.002851  0.689790  "
      ]
     },
     "execution_count": 5,
     "metadata": {},
     "output_type": "execute_result"
    }
   ],
   "source": [
    "df_train.head()"
   ]
  },
  {
   "cell_type": "code",
   "execution_count": 6,
   "metadata": {},
   "outputs": [],
   "source": [
    "X_train = df_train[['DISTANCE']]\n",
    "y_train = df_train[['calls_wd0', 'calls_wd1', 'calls_wd2', 'calls_wd3', 'calls_wd4', 'calls_wd5', 'calls_wd6']]\n",
    "X_test = df_test[['DISTANCE']]"
   ]
  },
  {
   "cell_type": "code",
   "execution_count": 7,
   "metadata": {},
   "outputs": [
    {
     "data": {
      "text/html": [
       "<div>\n",
       "<style scoped>\n",
       "    .dataframe tbody tr th:only-of-type {\n",
       "        vertical-align: middle;\n",
       "    }\n",
       "\n",
       "    .dataframe tbody tr th {\n",
       "        vertical-align: top;\n",
       "    }\n",
       "\n",
       "    .dataframe thead th {\n",
       "        text-align: right;\n",
       "    }\n",
       "</style>\n",
       "<table border=\"1\" class=\"dataframe\">\n",
       "  <thead>\n",
       "    <tr style=\"text-align: right;\">\n",
       "      <th></th>\n",
       "      <th>DISTANCE</th>\n",
       "    </tr>\n",
       "    <tr>\n",
       "      <th>zone_id</th>\n",
       "      <th></th>\n",
       "    </tr>\n",
       "  </thead>\n",
       "  <tbody>\n",
       "    <tr>\n",
       "      <th>79</th>\n",
       "      <td>0.350403</td>\n",
       "    </tr>\n",
       "    <tr>\n",
       "      <th>80</th>\n",
       "      <td>0.350456</td>\n",
       "    </tr>\n",
       "    <tr>\n",
       "      <th>81</th>\n",
       "      <td>0.350688</td>\n",
       "    </tr>\n",
       "    <tr>\n",
       "      <th>82</th>\n",
       "      <td>0.351097</td>\n",
       "    </tr>\n",
       "    <tr>\n",
       "      <th>83</th>\n",
       "      <td>0.351682</td>\n",
       "    </tr>\n",
       "  </tbody>\n",
       "</table>\n",
       "</div>"
      ],
      "text/plain": [
       "         DISTANCE\n",
       "zone_id          \n",
       "79       0.350403\n",
       "80       0.350456\n",
       "81       0.350688\n",
       "82       0.351097\n",
       "83       0.351682"
      ]
     },
     "execution_count": 7,
     "metadata": {},
     "output_type": "execute_result"
    }
   ],
   "source": [
    "X_test.head()"
   ]
  },
  {
   "cell_type": "code",
   "execution_count": 8,
   "metadata": {},
   "outputs": [],
   "source": [
    "regr = RandomForestRegressor(max_depth=30, random_state=0)"
   ]
  },
  {
   "cell_type": "code",
   "execution_count": 9,
   "metadata": {},
   "outputs": [],
   "source": [
    "regr_multirf = MultiOutputRegressor(regr)"
   ]
  },
  {
   "cell_type": "code",
   "execution_count": 10,
   "metadata": {},
   "outputs": [
    {
     "name": "stdout",
     "output_type": "stream",
     "text": [
      "Wall time: 2.01 s\n"
     ]
    },
    {
     "data": {
      "text/plain": [
       "MultiOutputRegressor(estimator=RandomForestRegressor(bootstrap=True, criterion='mse', max_depth=30,\n",
       "           max_features='auto', max_leaf_nodes=None,\n",
       "           min_impurity_decrease=0.0, min_impurity_split=None,\n",
       "           min_samples_leaf=1, min_samples_split=2,\n",
       "           min_weight_fraction_leaf=0.0, n_estimators=10, n_jobs=1,\n",
       "           oob_score=False, random_state=0, verbose=0, warm_start=False),\n",
       "           n_jobs=1)"
      ]
     },
     "execution_count": 10,
     "metadata": {},
     "output_type": "execute_result"
    }
   ],
   "source": [
    "%%time\n",
    "regr_multirf.fit(X_train, y_train)"
   ]
  },
  {
   "cell_type": "code",
   "execution_count": 11,
   "metadata": {},
   "outputs": [],
   "source": [
    "y_multirf = regr_multirf.predict(X_test)"
   ]
  },
  {
   "cell_type": "code",
   "execution_count": 13,
   "metadata": {},
   "outputs": [
    {
     "data": {
      "text/plain": [
       "array([[ 0.2213927 ,  0.35922053,  0.33003184, ...,  0.35797477,\n",
       "         0.30556642,  0.35633584],\n",
       "       [ 0.1961501 ,  0.27003321,  0.23549013, ...,  0.24017594,\n",
       "         0.22764585,  0.29009523],\n",
       "       [ 0.05421289,  0.04223913,  0.09897865, ...,  0.03868444,\n",
       "         0.04701732,  0.04753391],\n",
       "       ..., \n",
       "       [ 0.00130664,  0.00709493,  0.01001165, ...,  0.00822361,\n",
       "         0.01181718,  0.00925275],\n",
       "       [ 0.01203164,  0.01380717,  0.02635351, ...,  0.02125363,\n",
       "         0.03498651,  0.02408681],\n",
       "       [ 0.02154287,  0.02175702,  0.02042172, ...,  0.03059457,\n",
       "         0.02340851,  0.01929048]])"
      ]
     },
     "execution_count": 13,
     "metadata": {},
     "output_type": "execute_result"
    }
   ],
   "source": [
    "y_multirf"
   ]
  },
  {
   "cell_type": "code",
   "execution_count": 21,
   "metadata": {},
   "outputs": [],
   "source": [
    "df_trees = pd.DataFrame(y_multirf, index=X_test.index)"
   ]
  },
  {
   "cell_type": "code",
   "execution_count": 23,
   "metadata": {},
   "outputs": [],
   "source": [
    "df_trees.columns = ['calls_wd0','calls_wd1','calls_wd2','calls_wd3','calls_wd4','calls_wd5','calls_wd6']"
   ]
  },
  {
   "cell_type": "code",
   "execution_count": 24,
   "metadata": {},
   "outputs": [
    {
     "data": {
      "text/html": [
       "<div>\n",
       "<style scoped>\n",
       "    .dataframe tbody tr th:only-of-type {\n",
       "        vertical-align: middle;\n",
       "    }\n",
       "\n",
       "    .dataframe tbody tr th {\n",
       "        vertical-align: top;\n",
       "    }\n",
       "\n",
       "    .dataframe thead th {\n",
       "        text-align: right;\n",
       "    }\n",
       "</style>\n",
       "<table border=\"1\" class=\"dataframe\">\n",
       "  <thead>\n",
       "    <tr style=\"text-align: right;\">\n",
       "      <th></th>\n",
       "      <th>calls_wd0</th>\n",
       "      <th>calls_wd1</th>\n",
       "      <th>calls_wd2</th>\n",
       "      <th>calls_wd3</th>\n",
       "      <th>calls_wd4</th>\n",
       "      <th>calls_wd5</th>\n",
       "      <th>calls_wd6</th>\n",
       "    </tr>\n",
       "    <tr>\n",
       "      <th>zone_id</th>\n",
       "      <th></th>\n",
       "      <th></th>\n",
       "      <th></th>\n",
       "      <th></th>\n",
       "      <th></th>\n",
       "      <th></th>\n",
       "      <th></th>\n",
       "    </tr>\n",
       "  </thead>\n",
       "  <tbody>\n",
       "    <tr>\n",
       "      <th>79</th>\n",
       "      <td>0.221393</td>\n",
       "      <td>0.359221</td>\n",
       "      <td>0.330032</td>\n",
       "      <td>0.669531</td>\n",
       "      <td>0.357975</td>\n",
       "      <td>0.305566</td>\n",
       "      <td>0.356336</td>\n",
       "    </tr>\n",
       "    <tr>\n",
       "      <th>80</th>\n",
       "      <td>0.196150</td>\n",
       "      <td>0.270033</td>\n",
       "      <td>0.235490</td>\n",
       "      <td>0.446729</td>\n",
       "      <td>0.240176</td>\n",
       "      <td>0.227646</td>\n",
       "      <td>0.290095</td>\n",
       "    </tr>\n",
       "    <tr>\n",
       "      <th>81</th>\n",
       "      <td>0.054213</td>\n",
       "      <td>0.042239</td>\n",
       "      <td>0.098979</td>\n",
       "      <td>0.058533</td>\n",
       "      <td>0.038684</td>\n",
       "      <td>0.047017</td>\n",
       "      <td>0.047534</td>\n",
       "    </tr>\n",
       "    <tr>\n",
       "      <th>82</th>\n",
       "      <td>0.102376</td>\n",
       "      <td>0.087136</td>\n",
       "      <td>0.082474</td>\n",
       "      <td>0.090062</td>\n",
       "      <td>0.081683</td>\n",
       "      <td>0.127753</td>\n",
       "      <td>0.085663</td>\n",
       "    </tr>\n",
       "    <tr>\n",
       "      <th>83</th>\n",
       "      <td>0.049641</td>\n",
       "      <td>0.041479</td>\n",
       "      <td>0.033790</td>\n",
       "      <td>0.081568</td>\n",
       "      <td>0.023211</td>\n",
       "      <td>0.157037</td>\n",
       "      <td>0.086994</td>\n",
       "    </tr>\n",
       "  </tbody>\n",
       "</table>\n",
       "</div>"
      ],
      "text/plain": [
       "         calls_wd0  calls_wd1  calls_wd2  calls_wd3  calls_wd4  calls_wd5  \\\n",
       "zone_id                                                                     \n",
       "79        0.221393   0.359221   0.330032   0.669531   0.357975   0.305566   \n",
       "80        0.196150   0.270033   0.235490   0.446729   0.240176   0.227646   \n",
       "81        0.054213   0.042239   0.098979   0.058533   0.038684   0.047017   \n",
       "82        0.102376   0.087136   0.082474   0.090062   0.081683   0.127753   \n",
       "83        0.049641   0.041479   0.033790   0.081568   0.023211   0.157037   \n",
       "\n",
       "         calls_wd6  \n",
       "zone_id             \n",
       "79        0.356336  \n",
       "80        0.290095  \n",
       "81        0.047534  \n",
       "82        0.085663  \n",
       "83        0.086994  "
      ]
     },
     "execution_count": 24,
     "metadata": {},
     "output_type": "execute_result"
    }
   ],
   "source": [
    "df_trees.head()"
   ]
  },
  {
   "cell_type": "code",
   "execution_count": 26,
   "metadata": {},
   "outputs": [],
   "source": [
    "df_trees.to_csv('data/mts_sub_rnd_forest.csv')"
   ]
  },
  {
   "cell_type": "code",
   "execution_count": null,
   "metadata": {},
   "outputs": [],
   "source": []
  }
 ],
 "metadata": {
  "kernelspec": {
   "display_name": "Python 3",
   "language": "python",
   "name": "python3"
  },
  "language_info": {
   "codemirror_mode": {
    "name": "ipython",
    "version": 3
   },
   "file_extension": ".py",
   "mimetype": "text/x-python",
   "name": "python",
   "nbconvert_exporter": "python",
   "pygments_lexer": "ipython3",
   "version": "3.6.5"
  }
 },
 "nbformat": 4,
 "nbformat_minor": 2
}
