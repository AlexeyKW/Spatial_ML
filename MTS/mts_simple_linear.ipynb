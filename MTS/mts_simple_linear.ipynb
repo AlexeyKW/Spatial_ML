{
 "cells": [
  {
   "cell_type": "code",
   "execution_count": 22,
   "metadata": {},
   "outputs": [],
   "source": [
    "import pandas as pd\n",
    "import matplotlib.pyplot as plt\n",
    "import numpy as np\n",
    "from sklearn import datasets, linear_model"
   ]
  },
  {
   "cell_type": "code",
   "execution_count": 14,
   "metadata": {},
   "outputs": [],
   "source": [
    "df = pd.read_csv('data/Export_Output.csv', sep=';', index_col='zone_id')"
   ]
  },
  {
   "cell_type": "code",
   "execution_count": 15,
   "metadata": {},
   "outputs": [
    {
     "data": {
      "text/html": [
       "<div>\n",
       "<style scoped>\n",
       "    .dataframe tbody tr th:only-of-type {\n",
       "        vertical-align: middle;\n",
       "    }\n",
       "\n",
       "    .dataframe tbody tr th {\n",
       "        vertical-align: top;\n",
       "    }\n",
       "\n",
       "    .dataframe thead th {\n",
       "        text-align: right;\n",
       "    }\n",
       "</style>\n",
       "<table border=\"1\" class=\"dataframe\">\n",
       "  <thead>\n",
       "    <tr style=\"text-align: right;\">\n",
       "      <th></th>\n",
       "      <th>is_test</th>\n",
       "      <th>calls_workday</th>\n",
       "      <th>calls_weekend</th>\n",
       "      <th>DISTANCE</th>\n",
       "    </tr>\n",
       "    <tr>\n",
       "      <th>zone_id</th>\n",
       "      <th></th>\n",
       "      <th></th>\n",
       "      <th></th>\n",
       "      <th></th>\n",
       "    </tr>\n",
       "  </thead>\n",
       "  <tbody>\n",
       "    <tr>\n",
       "      <th>0</th>\n",
       "      <td>0</td>\n",
       "      <td>0.001325</td>\n",
       "      <td>0.004213</td>\n",
       "      <td>0.717191</td>\n",
       "    </tr>\n",
       "    <tr>\n",
       "      <th>1</th>\n",
       "      <td>0</td>\n",
       "      <td>0.000535</td>\n",
       "      <td>0.002096</td>\n",
       "      <td>0.710308</td>\n",
       "    </tr>\n",
       "    <tr>\n",
       "      <th>2</th>\n",
       "      <td>0</td>\n",
       "      <td>0.000724</td>\n",
       "      <td>0.002622</td>\n",
       "      <td>0.703446</td>\n",
       "    </tr>\n",
       "    <tr>\n",
       "      <th>3</th>\n",
       "      <td>0</td>\n",
       "      <td>0.000476</td>\n",
       "      <td>0.002143</td>\n",
       "      <td>0.696607</td>\n",
       "    </tr>\n",
       "    <tr>\n",
       "      <th>4</th>\n",
       "      <td>0</td>\n",
       "      <td>0.000310</td>\n",
       "      <td>0.002113</td>\n",
       "      <td>0.689790</td>\n",
       "    </tr>\n",
       "  </tbody>\n",
       "</table>\n",
       "</div>"
      ],
      "text/plain": [
       "         is_test  calls_workday  calls_weekend  DISTANCE\n",
       "zone_id                                                 \n",
       "0              0       0.001325       0.004213  0.717191\n",
       "1              0       0.000535       0.002096  0.710308\n",
       "2              0       0.000724       0.002622  0.703446\n",
       "3              0       0.000476       0.002143  0.696607\n",
       "4              0       0.000310       0.002113  0.689790"
      ]
     },
     "execution_count": 15,
     "metadata": {},
     "output_type": "execute_result"
    }
   ],
   "source": [
    "df.head()"
   ]
  },
  {
   "cell_type": "code",
   "execution_count": 16,
   "metadata": {},
   "outputs": [],
   "source": [
    "df_train = df[df['is_test']==0]"
   ]
  },
  {
   "cell_type": "code",
   "execution_count": 19,
   "metadata": {},
   "outputs": [],
   "source": [
    "X_train_work = df_train[['DISTANCE']]\n",
    "y_train_work = df_train[['calls_workday']]\n",
    "X_train_week = df_train[['DISTANCE']]\n",
    "y_train_week = df_train[['calls_weekend']]"
   ]
  },
  {
   "cell_type": "code",
   "execution_count": 17,
   "metadata": {},
   "outputs": [],
   "source": [
    "df_test = df[df['is_test']==1]"
   ]
  },
  {
   "cell_type": "code",
   "execution_count": 18,
   "metadata": {},
   "outputs": [
    {
     "data": {
      "text/html": [
       "<div>\n",
       "<style scoped>\n",
       "    .dataframe tbody tr th:only-of-type {\n",
       "        vertical-align: middle;\n",
       "    }\n",
       "\n",
       "    .dataframe tbody tr th {\n",
       "        vertical-align: top;\n",
       "    }\n",
       "\n",
       "    .dataframe thead th {\n",
       "        text-align: right;\n",
       "    }\n",
       "</style>\n",
       "<table border=\"1\" class=\"dataframe\">\n",
       "  <thead>\n",
       "    <tr style=\"text-align: right;\">\n",
       "      <th></th>\n",
       "      <th>is_test</th>\n",
       "      <th>calls_workday</th>\n",
       "      <th>calls_weekend</th>\n",
       "      <th>DISTANCE</th>\n",
       "    </tr>\n",
       "    <tr>\n",
       "      <th>zone_id</th>\n",
       "      <th></th>\n",
       "      <th></th>\n",
       "      <th></th>\n",
       "      <th></th>\n",
       "    </tr>\n",
       "  </thead>\n",
       "  <tbody>\n",
       "    <tr>\n",
       "      <th>79</th>\n",
       "      <td>1</td>\n",
       "      <td>0.0</td>\n",
       "      <td>0.0</td>\n",
       "      <td>0.350403</td>\n",
       "    </tr>\n",
       "    <tr>\n",
       "      <th>80</th>\n",
       "      <td>1</td>\n",
       "      <td>0.0</td>\n",
       "      <td>0.0</td>\n",
       "      <td>0.350456</td>\n",
       "    </tr>\n",
       "    <tr>\n",
       "      <th>81</th>\n",
       "      <td>1</td>\n",
       "      <td>0.0</td>\n",
       "      <td>0.0</td>\n",
       "      <td>0.350688</td>\n",
       "    </tr>\n",
       "    <tr>\n",
       "      <th>82</th>\n",
       "      <td>1</td>\n",
       "      <td>0.0</td>\n",
       "      <td>0.0</td>\n",
       "      <td>0.351097</td>\n",
       "    </tr>\n",
       "    <tr>\n",
       "      <th>83</th>\n",
       "      <td>1</td>\n",
       "      <td>0.0</td>\n",
       "      <td>0.0</td>\n",
       "      <td>0.351682</td>\n",
       "    </tr>\n",
       "  </tbody>\n",
       "</table>\n",
       "</div>"
      ],
      "text/plain": [
       "         is_test  calls_workday  calls_weekend  DISTANCE\n",
       "zone_id                                                 \n",
       "79             1            0.0            0.0  0.350403\n",
       "80             1            0.0            0.0  0.350456\n",
       "81             1            0.0            0.0  0.350688\n",
       "82             1            0.0            0.0  0.351097\n",
       "83             1            0.0            0.0  0.351682"
      ]
     },
     "execution_count": 18,
     "metadata": {},
     "output_type": "execute_result"
    }
   ],
   "source": [
    "df_test.head()"
   ]
  },
  {
   "cell_type": "code",
   "execution_count": 21,
   "metadata": {},
   "outputs": [],
   "source": [
    "X_test = df_test[['DISTANCE']]"
   ]
  },
  {
   "cell_type": "code",
   "execution_count": 23,
   "metadata": {},
   "outputs": [],
   "source": [
    "regr_work = linear_model.LinearRegression()\n",
    "regr_week = linear_model.LinearRegression()"
   ]
  },
  {
   "cell_type": "code",
   "execution_count": 24,
   "metadata": {},
   "outputs": [
    {
     "name": "stdout",
     "output_type": "stream",
     "text": [
      "Wall time: 1.4 s\n"
     ]
    },
    {
     "data": {
      "text/plain": [
       "LinearRegression(copy_X=True, fit_intercept=True, n_jobs=1, normalize=False)"
      ]
     },
     "execution_count": 24,
     "metadata": {},
     "output_type": "execute_result"
    }
   ],
   "source": [
    "%%time\n",
    "regr_work.fit(X_train_work, y_train_work)"
   ]
  },
  {
   "cell_type": "code",
   "execution_count": 25,
   "metadata": {},
   "outputs": [
    {
     "data": {
      "text/plain": [
       "LinearRegression(copy_X=True, fit_intercept=True, n_jobs=1, normalize=False)"
      ]
     },
     "execution_count": 25,
     "metadata": {},
     "output_type": "execute_result"
    }
   ],
   "source": [
    "regr_week.fit(X_train_week, y_train_week)"
   ]
  },
  {
   "cell_type": "code",
   "execution_count": 27,
   "metadata": {},
   "outputs": [
    {
     "name": "stdout",
     "output_type": "stream",
     "text": [
      "Wall time: 60.5 ms\n"
     ]
    },
    {
     "name": "stderr",
     "output_type": "stream",
     "text": [
      "E:\\Miniconda3\\lib\\site-packages\\ipykernel_launcher.py:1: SettingWithCopyWarning: \n",
      "A value is trying to be set on a copy of a slice from a DataFrame.\n",
      "Try using .loc[row_indexer,col_indexer] = value instead\n",
      "\n",
      "See the caveats in the documentation: http://pandas.pydata.org/pandas-docs/stable/indexing.html#indexing-view-versus-copy\n",
      "  \"\"\"Entry point for launching an IPython kernel.\n"
     ]
    }
   ],
   "source": [
    "%%time\n",
    "X_test['calls_wd0'] = regr_work.predict(X_test)"
   ]
  },
  {
   "cell_type": "code",
   "execution_count": 29,
   "metadata": {},
   "outputs": [
    {
     "name": "stderr",
     "output_type": "stream",
     "text": [
      "E:\\Miniconda3\\lib\\site-packages\\ipykernel_launcher.py:1: SettingWithCopyWarning: \n",
      "A value is trying to be set on a copy of a slice from a DataFrame.\n",
      "Try using .loc[row_indexer,col_indexer] = value instead\n",
      "\n",
      "See the caveats in the documentation: http://pandas.pydata.org/pandas-docs/stable/indexing.html#indexing-view-versus-copy\n",
      "  \"\"\"Entry point for launching an IPython kernel.\n"
     ]
    }
   ],
   "source": [
    "X_test['calls_wd1'] = X_test['calls_wd0']\n",
    "X_test['calls_wd2'] = X_test['calls_wd0']\n",
    "X_test['calls_wd3'] = X_test['calls_wd0']\n",
    "X_test['calls_wd4'] = X_test['calls_wd0']"
   ]
  },
  {
   "cell_type": "code",
   "execution_count": 31,
   "metadata": {},
   "outputs": [],
   "source": [
    "X_test_week = df_test[['DISTANCE']]"
   ]
  },
  {
   "cell_type": "code",
   "execution_count": 32,
   "metadata": {},
   "outputs": [],
   "source": [
    "X_test['calls_wd5'] = regr_week.predict(X_test_week)"
   ]
  },
  {
   "cell_type": "code",
   "execution_count": 33,
   "metadata": {},
   "outputs": [
    {
     "data": {
      "text/html": [
       "<div>\n",
       "<style scoped>\n",
       "    .dataframe tbody tr th:only-of-type {\n",
       "        vertical-align: middle;\n",
       "    }\n",
       "\n",
       "    .dataframe tbody tr th {\n",
       "        vertical-align: top;\n",
       "    }\n",
       "\n",
       "    .dataframe thead th {\n",
       "        text-align: right;\n",
       "    }\n",
       "</style>\n",
       "<table border=\"1\" class=\"dataframe\">\n",
       "  <thead>\n",
       "    <tr style=\"text-align: right;\">\n",
       "      <th></th>\n",
       "      <th>DISTANCE</th>\n",
       "      <th>calls_wd0</th>\n",
       "      <th>calls_wd1</th>\n",
       "      <th>calls_wd2</th>\n",
       "      <th>calls_wd3</th>\n",
       "      <th>calls_wd4</th>\n",
       "      <th>calls_wd5</th>\n",
       "    </tr>\n",
       "    <tr>\n",
       "      <th>zone_id</th>\n",
       "      <th></th>\n",
       "      <th></th>\n",
       "      <th></th>\n",
       "      <th></th>\n",
       "      <th></th>\n",
       "      <th></th>\n",
       "      <th></th>\n",
       "    </tr>\n",
       "  </thead>\n",
       "  <tbody>\n",
       "    <tr>\n",
       "      <th>79</th>\n",
       "      <td>0.350403</td>\n",
       "      <td>0.645925</td>\n",
       "      <td>0.645925</td>\n",
       "      <td>0.645925</td>\n",
       "      <td>0.645925</td>\n",
       "      <td>0.645925</td>\n",
       "      <td>0.607412</td>\n",
       "    </tr>\n",
       "    <tr>\n",
       "      <th>80</th>\n",
       "      <td>0.350456</td>\n",
       "      <td>0.645776</td>\n",
       "      <td>0.645776</td>\n",
       "      <td>0.645776</td>\n",
       "      <td>0.645776</td>\n",
       "      <td>0.645776</td>\n",
       "      <td>0.607277</td>\n",
       "    </tr>\n",
       "    <tr>\n",
       "      <th>81</th>\n",
       "      <td>0.350688</td>\n",
       "      <td>0.645132</td>\n",
       "      <td>0.645132</td>\n",
       "      <td>0.645132</td>\n",
       "      <td>0.645132</td>\n",
       "      <td>0.645132</td>\n",
       "      <td>0.606688</td>\n",
       "    </tr>\n",
       "    <tr>\n",
       "      <th>82</th>\n",
       "      <td>0.351097</td>\n",
       "      <td>0.643992</td>\n",
       "      <td>0.643992</td>\n",
       "      <td>0.643992</td>\n",
       "      <td>0.643992</td>\n",
       "      <td>0.643992</td>\n",
       "      <td>0.605648</td>\n",
       "    </tr>\n",
       "    <tr>\n",
       "      <th>83</th>\n",
       "      <td>0.351682</td>\n",
       "      <td>0.642359</td>\n",
       "      <td>0.642359</td>\n",
       "      <td>0.642359</td>\n",
       "      <td>0.642359</td>\n",
       "      <td>0.642359</td>\n",
       "      <td>0.604158</td>\n",
       "    </tr>\n",
       "  </tbody>\n",
       "</table>\n",
       "</div>"
      ],
      "text/plain": [
       "         DISTANCE  calls_wd0  calls_wd1  calls_wd2  calls_wd3  calls_wd4  \\\n",
       "zone_id                                                                    \n",
       "79       0.350403   0.645925   0.645925   0.645925   0.645925   0.645925   \n",
       "80       0.350456   0.645776   0.645776   0.645776   0.645776   0.645776   \n",
       "81       0.350688   0.645132   0.645132   0.645132   0.645132   0.645132   \n",
       "82       0.351097   0.643992   0.643992   0.643992   0.643992   0.643992   \n",
       "83       0.351682   0.642359   0.642359   0.642359   0.642359   0.642359   \n",
       "\n",
       "         calls_wd5  \n",
       "zone_id             \n",
       "79        0.607412  \n",
       "80        0.607277  \n",
       "81        0.606688  \n",
       "82        0.605648  \n",
       "83        0.604158  "
      ]
     },
     "execution_count": 33,
     "metadata": {},
     "output_type": "execute_result"
    }
   ],
   "source": [
    "X_test.head()"
   ]
  },
  {
   "cell_type": "code",
   "execution_count": 34,
   "metadata": {},
   "outputs": [],
   "source": [
    "X_test['calls_wd6'] = X_test['calls_wd5']"
   ]
  },
  {
   "cell_type": "code",
   "execution_count": 36,
   "metadata": {},
   "outputs": [],
   "source": [
    "X_end = X_test.drop(columns=['DISTANCE'])"
   ]
  },
  {
   "cell_type": "code",
   "execution_count": 37,
   "metadata": {},
   "outputs": [
    {
     "data": {
      "text/html": [
       "<div>\n",
       "<style scoped>\n",
       "    .dataframe tbody tr th:only-of-type {\n",
       "        vertical-align: middle;\n",
       "    }\n",
       "\n",
       "    .dataframe tbody tr th {\n",
       "        vertical-align: top;\n",
       "    }\n",
       "\n",
       "    .dataframe thead th {\n",
       "        text-align: right;\n",
       "    }\n",
       "</style>\n",
       "<table border=\"1\" class=\"dataframe\">\n",
       "  <thead>\n",
       "    <tr style=\"text-align: right;\">\n",
       "      <th></th>\n",
       "      <th>calls_wd0</th>\n",
       "      <th>calls_wd1</th>\n",
       "      <th>calls_wd2</th>\n",
       "      <th>calls_wd3</th>\n",
       "      <th>calls_wd4</th>\n",
       "      <th>calls_wd5</th>\n",
       "      <th>calls_wd6</th>\n",
       "    </tr>\n",
       "    <tr>\n",
       "      <th>zone_id</th>\n",
       "      <th></th>\n",
       "      <th></th>\n",
       "      <th></th>\n",
       "      <th></th>\n",
       "      <th></th>\n",
       "      <th></th>\n",
       "      <th></th>\n",
       "    </tr>\n",
       "  </thead>\n",
       "  <tbody>\n",
       "    <tr>\n",
       "      <th>79</th>\n",
       "      <td>0.645925</td>\n",
       "      <td>0.645925</td>\n",
       "      <td>0.645925</td>\n",
       "      <td>0.645925</td>\n",
       "      <td>0.645925</td>\n",
       "      <td>0.607412</td>\n",
       "      <td>0.607412</td>\n",
       "    </tr>\n",
       "    <tr>\n",
       "      <th>80</th>\n",
       "      <td>0.645776</td>\n",
       "      <td>0.645776</td>\n",
       "      <td>0.645776</td>\n",
       "      <td>0.645776</td>\n",
       "      <td>0.645776</td>\n",
       "      <td>0.607277</td>\n",
       "      <td>0.607277</td>\n",
       "    </tr>\n",
       "    <tr>\n",
       "      <th>81</th>\n",
       "      <td>0.645132</td>\n",
       "      <td>0.645132</td>\n",
       "      <td>0.645132</td>\n",
       "      <td>0.645132</td>\n",
       "      <td>0.645132</td>\n",
       "      <td>0.606688</td>\n",
       "      <td>0.606688</td>\n",
       "    </tr>\n",
       "    <tr>\n",
       "      <th>82</th>\n",
       "      <td>0.643992</td>\n",
       "      <td>0.643992</td>\n",
       "      <td>0.643992</td>\n",
       "      <td>0.643992</td>\n",
       "      <td>0.643992</td>\n",
       "      <td>0.605648</td>\n",
       "      <td>0.605648</td>\n",
       "    </tr>\n",
       "    <tr>\n",
       "      <th>83</th>\n",
       "      <td>0.642359</td>\n",
       "      <td>0.642359</td>\n",
       "      <td>0.642359</td>\n",
       "      <td>0.642359</td>\n",
       "      <td>0.642359</td>\n",
       "      <td>0.604158</td>\n",
       "      <td>0.604158</td>\n",
       "    </tr>\n",
       "  </tbody>\n",
       "</table>\n",
       "</div>"
      ],
      "text/plain": [
       "         calls_wd0  calls_wd1  calls_wd2  calls_wd3  calls_wd4  calls_wd5  \\\n",
       "zone_id                                                                     \n",
       "79        0.645925   0.645925   0.645925   0.645925   0.645925   0.607412   \n",
       "80        0.645776   0.645776   0.645776   0.645776   0.645776   0.607277   \n",
       "81        0.645132   0.645132   0.645132   0.645132   0.645132   0.606688   \n",
       "82        0.643992   0.643992   0.643992   0.643992   0.643992   0.605648   \n",
       "83        0.642359   0.642359   0.642359   0.642359   0.642359   0.604158   \n",
       "\n",
       "         calls_wd6  \n",
       "zone_id             \n",
       "79        0.607412  \n",
       "80        0.607277  \n",
       "81        0.606688  \n",
       "82        0.605648  \n",
       "83        0.604158  "
      ]
     },
     "execution_count": 37,
     "metadata": {},
     "output_type": "execute_result"
    }
   ],
   "source": [
    "X_end.head()"
   ]
  },
  {
   "cell_type": "code",
   "execution_count": 38,
   "metadata": {},
   "outputs": [],
   "source": [
    "X_end.to_csv('data/mts_sub.csv')"
   ]
  },
  {
   "cell_type": "code",
   "execution_count": null,
   "metadata": {},
   "outputs": [],
   "source": []
  }
 ],
 "metadata": {
  "kernelspec": {
   "display_name": "Python 3",
   "language": "python",
   "name": "python3"
  },
  "language_info": {
   "codemirror_mode": {
    "name": "ipython",
    "version": 3
   },
   "file_extension": ".py",
   "mimetype": "text/x-python",
   "name": "python",
   "nbconvert_exporter": "python",
   "pygments_lexer": "ipython3",
   "version": "3.6.4"
  }
 },
 "nbformat": 4,
 "nbformat_minor": 2
}
