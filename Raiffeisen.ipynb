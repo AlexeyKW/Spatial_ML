{
 "cells": [
  {
   "cell_type": "markdown",
   "metadata": {},
   "source": [
    "https://towardsdatascience.com/regression-models-with-multiple-target-variables-8baa75aacd"
   ]
  },
  {
   "cell_type": "markdown",
   "metadata": {},
   "source": [
    "http://www.cs.put.poznan.pl/kdembczynski/pdf/multi-target_prediction.pdf"
   ]
  },
  {
   "cell_type": "markdown",
   "metadata": {},
   "source": [
    "https://github.com/Microsoft/LightGBM/issues/524"
   ]
  },
  {
   "cell_type": "markdown",
   "metadata": {},
   "source": [
    "https://stackoverflow.com/questions/39540123/muti-output-regression-in-xgboost"
   ]
  },
  {
   "cell_type": "markdown",
   "metadata": {},
   "source": [
    "http://hamelg.blogspot.ru/2015/11/python-for-data-analysis-part-17.html"
   ]
  },
  {
   "cell_type": "code",
   "execution_count": 1,
   "metadata": {},
   "outputs": [],
   "source": [
    "import numpy as np\n",
    "import matplotlib.pyplot as plt\n",
    "from sklearn.ensemble import RandomForestRegressor\n",
    "from sklearn.model_selection import train_test_split\n",
    "from sklearn.multioutput import MultiOutputRegressor\n",
    "import pandas as pd\n",
    "from IPython.display import display\n",
    "pd.options.display.max_columns = None\n",
    "from sklearn.preprocessing import Imputer"
   ]
  },
  {
   "cell_type": "code",
   "execution_count": 2,
   "metadata": {},
   "outputs": [],
   "source": [
    "df_train = pd.read_csv('data/raiffeisen/train_set.csv', low_memory=False)"
   ]
  },
  {
   "cell_type": "code",
   "execution_count": 3,
   "metadata": {},
   "outputs": [],
   "source": [
    "df_test = pd.read_csv('data/raiffeisen/test_set.csv', low_memory=False)"
   ]
  },
  {
   "cell_type": "code",
   "execution_count": 4,
   "metadata": {},
   "outputs": [
    {
     "data": {
      "text/plain": [
       "9997"
      ]
     },
     "execution_count": 4,
     "metadata": {},
     "output_type": "execute_result"
    }
   ],
   "source": [
    "df_test.customer_id.nunique()"
   ]
  },
  {
   "cell_type": "code",
   "execution_count": 5,
   "metadata": {},
   "outputs": [],
   "source": [
    "df_train['transaction_date'] = pd.to_datetime(df_train['transaction_date'])\n",
    "df_test['transaction_date'] = pd.to_datetime(df_test['transaction_date'])"
   ]
  },
  {
   "cell_type": "code",
   "execution_count": 5,
   "metadata": {},
   "outputs": [
    {
     "data": {
      "text/html": [
       "<div>\n",
       "<style scoped>\n",
       "    .dataframe tbody tr th:only-of-type {\n",
       "        vertical-align: middle;\n",
       "    }\n",
       "\n",
       "    .dataframe tbody tr th {\n",
       "        vertical-align: top;\n",
       "    }\n",
       "\n",
       "    .dataframe thead th {\n",
       "        text-align: right;\n",
       "    }\n",
       "</style>\n",
       "<table border=\"1\" class=\"dataframe\">\n",
       "  <thead>\n",
       "    <tr style=\"text-align: right;\">\n",
       "      <th></th>\n",
       "      <th>amount</th>\n",
       "      <th>atm_address</th>\n",
       "      <th>atm_address_lat</th>\n",
       "      <th>atm_address_lon</th>\n",
       "      <th>city</th>\n",
       "      <th>country</th>\n",
       "      <th>currency</th>\n",
       "      <th>customer_id</th>\n",
       "      <th>home_add_lat</th>\n",
       "      <th>home_add_lon</th>\n",
       "      <th>mcc</th>\n",
       "      <th>pos_address</th>\n",
       "      <th>pos_adress_lat</th>\n",
       "      <th>pos_adress_lon</th>\n",
       "      <th>terminal_id</th>\n",
       "      <th>transaction_date</th>\n",
       "      <th>work_add_lat</th>\n",
       "      <th>work_add_lon</th>\n",
       "    </tr>\n",
       "  </thead>\n",
       "  <tbody>\n",
       "    <tr>\n",
       "      <th>0</th>\n",
       "      <td>2.884034</td>\n",
       "      <td>NaN</td>\n",
       "      <td>NaN</td>\n",
       "      <td>NaN</td>\n",
       "      <td>ST PETERSBURG</td>\n",
       "      <td>RUS</td>\n",
       "      <td>643.0</td>\n",
       "      <td>0dc0137d280a2a82d2dc89282450ff1b</td>\n",
       "      <td>59.851</td>\n",
       "      <td>30.232</td>\n",
       "      <td>5261</td>\n",
       "      <td>NaN</td>\n",
       "      <td>59.844072</td>\n",
       "      <td>30.179153</td>\n",
       "      <td>11606fde0c814ce78e0d726e39a0a5ee</td>\n",
       "      <td>2017-07-15</td>\n",
       "      <td>59.847</td>\n",
       "      <td>30.177</td>\n",
       "    </tr>\n",
       "    <tr>\n",
       "      <th>1</th>\n",
       "      <td>2.775633</td>\n",
       "      <td>NaN</td>\n",
       "      <td>NaN</td>\n",
       "      <td>NaN</td>\n",
       "      <td>ST PETERSBURG</td>\n",
       "      <td>RUS</td>\n",
       "      <td>643.0</td>\n",
       "      <td>0dc0137d280a2a82d2dc89282450ff1b</td>\n",
       "      <td>59.851</td>\n",
       "      <td>30.232</td>\n",
       "      <td>5261</td>\n",
       "      <td>NaN</td>\n",
       "      <td>59.844072</td>\n",
       "      <td>30.179153</td>\n",
       "      <td>e9647a5e1eacfb06713b6af755ccc595</td>\n",
       "      <td>2017-10-27</td>\n",
       "      <td>59.847</td>\n",
       "      <td>30.177</td>\n",
       "    </tr>\n",
       "    <tr>\n",
       "      <th>2</th>\n",
       "      <td>3.708368</td>\n",
       "      <td>NaN</td>\n",
       "      <td>NaN</td>\n",
       "      <td>NaN</td>\n",
       "      <td>St Petersburg</td>\n",
       "      <td>RUS</td>\n",
       "      <td>643.0</td>\n",
       "      <td>0dc0137d280a2a82d2dc89282450ff1b</td>\n",
       "      <td>59.851</td>\n",
       "      <td>30.232</td>\n",
       "      <td>5992</td>\n",
       "      <td>PR.MARSHALA ZHUKOVA,31St Petersburg190000    7...</td>\n",
       "      <td>59.858198</td>\n",
       "      <td>30.229024</td>\n",
       "      <td>df06c1fcd3718a514535ae822785f716</td>\n",
       "      <td>2017-10-03</td>\n",
       "      <td>59.847</td>\n",
       "      <td>30.177</td>\n",
       "    </tr>\n",
       "    <tr>\n",
       "      <th>3</th>\n",
       "      <td>2.787498</td>\n",
       "      <td>NaN</td>\n",
       "      <td>NaN</td>\n",
       "      <td>NaN</td>\n",
       "      <td>ST PETERSBURG</td>\n",
       "      <td>RUS</td>\n",
       "      <td>643.0</td>\n",
       "      <td>0dc0137d280a2a82d2dc89282450ff1b</td>\n",
       "      <td>59.851</td>\n",
       "      <td>30.232</td>\n",
       "      <td>5261</td>\n",
       "      <td>NaN</td>\n",
       "      <td>59.844072</td>\n",
       "      <td>30.179153</td>\n",
       "      <td>6c5e5793ebc984fb72875feffff62854</td>\n",
       "      <td>2017-09-09</td>\n",
       "      <td>59.847</td>\n",
       "      <td>30.177</td>\n",
       "    </tr>\n",
       "    <tr>\n",
       "      <th>4</th>\n",
       "      <td>2.892510</td>\n",
       "      <td>NaN</td>\n",
       "      <td>NaN</td>\n",
       "      <td>NaN</td>\n",
       "      <td>ST PETERSBURG</td>\n",
       "      <td>RUS</td>\n",
       "      <td>643.0</td>\n",
       "      <td>0dc0137d280a2a82d2dc89282450ff1b</td>\n",
       "      <td>59.851</td>\n",
       "      <td>30.232</td>\n",
       "      <td>5261</td>\n",
       "      <td>NaN</td>\n",
       "      <td>59.844072</td>\n",
       "      <td>30.179153</td>\n",
       "      <td>0576445d74e374c92c0902e612fca356</td>\n",
       "      <td>2017-07-06</td>\n",
       "      <td>59.847</td>\n",
       "      <td>30.177</td>\n",
       "    </tr>\n",
       "  </tbody>\n",
       "</table>\n",
       "</div>"
      ],
      "text/plain": [
       "     amount atm_address  atm_address_lat  atm_address_lon           city  \\\n",
       "0  2.884034         NaN              NaN              NaN  ST PETERSBURG   \n",
       "1  2.775633         NaN              NaN              NaN  ST PETERSBURG   \n",
       "2  3.708368         NaN              NaN              NaN  St Petersburg   \n",
       "3  2.787498         NaN              NaN              NaN  ST PETERSBURG   \n",
       "4  2.892510         NaN              NaN              NaN  ST PETERSBURG   \n",
       "\n",
       "  country  currency                       customer_id  home_add_lat  \\\n",
       "0     RUS     643.0  0dc0137d280a2a82d2dc89282450ff1b        59.851   \n",
       "1     RUS     643.0  0dc0137d280a2a82d2dc89282450ff1b        59.851   \n",
       "2     RUS     643.0  0dc0137d280a2a82d2dc89282450ff1b        59.851   \n",
       "3     RUS     643.0  0dc0137d280a2a82d2dc89282450ff1b        59.851   \n",
       "4     RUS     643.0  0dc0137d280a2a82d2dc89282450ff1b        59.851   \n",
       "\n",
       "   home_add_lon   mcc                                        pos_address  \\\n",
       "0        30.232  5261                                                NaN   \n",
       "1        30.232  5261                                                NaN   \n",
       "2        30.232  5992  PR.MARSHALA ZHUKOVA,31St Petersburg190000    7...   \n",
       "3        30.232  5261                                                NaN   \n",
       "4        30.232  5261                                                NaN   \n",
       "\n",
       "   pos_adress_lat  pos_adress_lon                       terminal_id  \\\n",
       "0       59.844072       30.179153  11606fde0c814ce78e0d726e39a0a5ee   \n",
       "1       59.844072       30.179153  e9647a5e1eacfb06713b6af755ccc595   \n",
       "2       59.858198       30.229024  df06c1fcd3718a514535ae822785f716   \n",
       "3       59.844072       30.179153  6c5e5793ebc984fb72875feffff62854   \n",
       "4       59.844072       30.179153  0576445d74e374c92c0902e612fca356   \n",
       "\n",
       "  transaction_date  work_add_lat  work_add_lon  \n",
       "0       2017-07-15        59.847        30.177  \n",
       "1       2017-10-27        59.847        30.177  \n",
       "2       2017-10-03        59.847        30.177  \n",
       "3       2017-09-09        59.847        30.177  \n",
       "4       2017-07-06        59.847        30.177  "
      ]
     },
     "execution_count": 5,
     "metadata": {},
     "output_type": "execute_result"
    }
   ],
   "source": [
    "df_train.head()"
   ]
  },
  {
   "cell_type": "code",
   "execution_count": 6,
   "metadata": {},
   "outputs": [
    {
     "name": "stdout",
     "output_type": "stream",
     "text": [
      "<class 'pandas.core.frame.DataFrame'>\n",
      "RangeIndex: 1224734 entries, 0 to 1224733\n",
      "Data columns (total 18 columns):\n",
      "amount              1224734 non-null float64\n",
      "atm_address         269473 non-null object\n",
      "atm_address_lat     184680 non-null float64\n",
      "atm_address_lon     184680 non-null float64\n",
      "city                1224725 non-null object\n",
      "country             1224734 non-null object\n",
      "currency            1224690 non-null float64\n",
      "customer_id         1224734 non-null object\n",
      "home_add_lat        1224718 non-null float64\n",
      "home_add_lon        1224718 non-null float64\n",
      "mcc                 1224734 non-null int64\n",
      "pos_address         924991 non-null object\n",
      "pos_adress_lat      942614 non-null float64\n",
      "pos_adress_lon      942614 non-null float64\n",
      "terminal_id         1224705 non-null object\n",
      "transaction_date    1224690 non-null datetime64[ns]\n",
      "work_add_lat        664660 non-null float64\n",
      "work_add_lon        664660 non-null float64\n",
      "dtypes: datetime64[ns](1), float64(10), int64(1), object(6)\n",
      "memory usage: 168.2+ MB\n"
     ]
    }
   ],
   "source": [
    "df_train.info()"
   ]
  },
  {
   "cell_type": "code",
   "execution_count": 6,
   "metadata": {},
   "outputs": [],
   "source": [
    "column_1 = df_train['transaction_date']\n",
    "df_train['year'] = column_1.dt.year\n",
    "df_train['month'] = column_1.dt.month\n",
    "df_train['day'] = column_1.dt.day\n",
    "df_train['hour'] = column_1.dt.hour\n",
    "df_train['dayofyear'] = column_1.dt.dayofyear\n",
    "df_train['week'] = column_1.dt.week\n",
    "df_train['weekofyear'] = column_1.dt.weekofyear\n",
    "df_train['dayofweek'] = column_1.dt.dayofweek\n",
    "df_train['weekday'] = column_1.dt.weekday\n",
    "df_train['quarter'] = column_1.dt.quarter"
   ]
  },
  {
   "cell_type": "code",
   "execution_count": 7,
   "metadata": {},
   "outputs": [],
   "source": [
    "column_1 = df_test['transaction_date']\n",
    "df_test['year'] = column_1.dt.year\n",
    "df_test['month'] = column_1.dt.month\n",
    "df_test['day'] = column_1.dt.day\n",
    "df_test['hour'] = column_1.dt.hour\n",
    "df_test['dayofyear'] = column_1.dt.dayofyear\n",
    "df_test['week'] = column_1.dt.week\n",
    "df_test['weekofyear'] = column_1.dt.weekofyear\n",
    "df_test['dayofweek'] = column_1.dt.dayofweek\n",
    "df_test['weekday'] = column_1.dt.weekday\n",
    "df_test['quarter'] = column_1.dt.quarter"
   ]
  },
  {
   "cell_type": "markdown",
   "metadata": {},
   "source": [
    "### Random forest regressor with time series"
   ]
  },
  {
   "cell_type": "code",
   "execution_count": 8,
   "metadata": {},
   "outputs": [],
   "source": [
    "X_train = df_train.drop(['atm_address', 'city', 'country', 'customer_id', 'pos_address', 'terminal_id', 'home_add_lat', 'home_add_lon', 'work_add_lat', 'work_add_lon', 'transaction_date'], axis=1)"
   ]
  },
  {
   "cell_type": "code",
   "execution_count": 9,
   "metadata": {},
   "outputs": [],
   "source": [
    "X_train['atm_address_lat'] = X_train['atm_address_lat'].fillna(X_train['pos_adress_lat'])\n",
    "X_train['atm_address_lon'] = X_train['atm_address_lat'].fillna(X_train['pos_adress_lon'])"
   ]
  },
  {
   "cell_type": "code",
   "execution_count": 10,
   "metadata": {},
   "outputs": [],
   "source": [
    "X_train['currency'] = X_train['currency'].fillna(0)"
   ]
  },
  {
   "cell_type": "code",
   "execution_count": 11,
   "metadata": {},
   "outputs": [],
   "source": [
    "X_train['pos_adress_lat'] = X_train['pos_adress_lat'].fillna(X_train['atm_address_lat'])\n",
    "X_train['pos_adress_lon'] = X_train['pos_adress_lon'].fillna(X_train['atm_address_lon'])"
   ]
  },
  {
   "cell_type": "code",
   "execution_count": 66,
   "metadata": {},
   "outputs": [
    {
     "data": {
      "text/html": [
       "<div>\n",
       "<style scoped>\n",
       "    .dataframe tbody tr th:only-of-type {\n",
       "        vertical-align: middle;\n",
       "    }\n",
       "\n",
       "    .dataframe tbody tr th {\n",
       "        vertical-align: top;\n",
       "    }\n",
       "\n",
       "    .dataframe thead th {\n",
       "        text-align: right;\n",
       "    }\n",
       "</style>\n",
       "<table border=\"1\" class=\"dataframe\">\n",
       "  <thead>\n",
       "    <tr style=\"text-align: right;\">\n",
       "      <th></th>\n",
       "      <th>amount</th>\n",
       "      <th>atm_address_lat</th>\n",
       "      <th>atm_address_lon</th>\n",
       "      <th>currency</th>\n",
       "      <th>mcc</th>\n",
       "      <th>pos_adress_lat</th>\n",
       "      <th>pos_adress_lon</th>\n",
       "      <th>year</th>\n",
       "      <th>month</th>\n",
       "      <th>day</th>\n",
       "      <th>hour</th>\n",
       "      <th>dayofyear</th>\n",
       "      <th>week</th>\n",
       "      <th>weekofyear</th>\n",
       "      <th>dayofweek</th>\n",
       "      <th>weekday</th>\n",
       "      <th>quarter</th>\n",
       "    </tr>\n",
       "  </thead>\n",
       "  <tbody>\n",
       "    <tr>\n",
       "      <th>0</th>\n",
       "      <td>2.884034</td>\n",
       "      <td>59.844072</td>\n",
       "      <td>59.844072</td>\n",
       "      <td>643.0</td>\n",
       "      <td>5261</td>\n",
       "      <td>59.844072</td>\n",
       "      <td>30.179153</td>\n",
       "      <td>2017.0</td>\n",
       "      <td>7.0</td>\n",
       "      <td>15.0</td>\n",
       "      <td>0.0</td>\n",
       "      <td>196.0</td>\n",
       "      <td>28.0</td>\n",
       "      <td>28.0</td>\n",
       "      <td>5.0</td>\n",
       "      <td>5.0</td>\n",
       "      <td>3.0</td>\n",
       "    </tr>\n",
       "    <tr>\n",
       "      <th>1</th>\n",
       "      <td>2.775633</td>\n",
       "      <td>59.844072</td>\n",
       "      <td>59.844072</td>\n",
       "      <td>643.0</td>\n",
       "      <td>5261</td>\n",
       "      <td>59.844072</td>\n",
       "      <td>30.179153</td>\n",
       "      <td>2017.0</td>\n",
       "      <td>10.0</td>\n",
       "      <td>27.0</td>\n",
       "      <td>0.0</td>\n",
       "      <td>300.0</td>\n",
       "      <td>43.0</td>\n",
       "      <td>43.0</td>\n",
       "      <td>4.0</td>\n",
       "      <td>4.0</td>\n",
       "      <td>4.0</td>\n",
       "    </tr>\n",
       "    <tr>\n",
       "      <th>2</th>\n",
       "      <td>3.708368</td>\n",
       "      <td>59.858198</td>\n",
       "      <td>59.858198</td>\n",
       "      <td>643.0</td>\n",
       "      <td>5992</td>\n",
       "      <td>59.858198</td>\n",
       "      <td>30.229024</td>\n",
       "      <td>2017.0</td>\n",
       "      <td>10.0</td>\n",
       "      <td>3.0</td>\n",
       "      <td>0.0</td>\n",
       "      <td>276.0</td>\n",
       "      <td>40.0</td>\n",
       "      <td>40.0</td>\n",
       "      <td>1.0</td>\n",
       "      <td>1.0</td>\n",
       "      <td>4.0</td>\n",
       "    </tr>\n",
       "    <tr>\n",
       "      <th>3</th>\n",
       "      <td>2.787498</td>\n",
       "      <td>59.844072</td>\n",
       "      <td>59.844072</td>\n",
       "      <td>643.0</td>\n",
       "      <td>5261</td>\n",
       "      <td>59.844072</td>\n",
       "      <td>30.179153</td>\n",
       "      <td>2017.0</td>\n",
       "      <td>9.0</td>\n",
       "      <td>9.0</td>\n",
       "      <td>0.0</td>\n",
       "      <td>252.0</td>\n",
       "      <td>36.0</td>\n",
       "      <td>36.0</td>\n",
       "      <td>5.0</td>\n",
       "      <td>5.0</td>\n",
       "      <td>3.0</td>\n",
       "    </tr>\n",
       "    <tr>\n",
       "      <th>4</th>\n",
       "      <td>2.892510</td>\n",
       "      <td>59.844072</td>\n",
       "      <td>59.844072</td>\n",
       "      <td>643.0</td>\n",
       "      <td>5261</td>\n",
       "      <td>59.844072</td>\n",
       "      <td>30.179153</td>\n",
       "      <td>2017.0</td>\n",
       "      <td>7.0</td>\n",
       "      <td>6.0</td>\n",
       "      <td>0.0</td>\n",
       "      <td>187.0</td>\n",
       "      <td>27.0</td>\n",
       "      <td>27.0</td>\n",
       "      <td>3.0</td>\n",
       "      <td>3.0</td>\n",
       "      <td>3.0</td>\n",
       "    </tr>\n",
       "  </tbody>\n",
       "</table>\n",
       "</div>"
      ],
      "text/plain": [
       "     amount  atm_address_lat  atm_address_lon  currency   mcc  pos_adress_lat  \\\n",
       "0  2.884034        59.844072        59.844072     643.0  5261       59.844072   \n",
       "1  2.775633        59.844072        59.844072     643.0  5261       59.844072   \n",
       "2  3.708368        59.858198        59.858198     643.0  5992       59.858198   \n",
       "3  2.787498        59.844072        59.844072     643.0  5261       59.844072   \n",
       "4  2.892510        59.844072        59.844072     643.0  5261       59.844072   \n",
       "\n",
       "   pos_adress_lon    year  month   day  hour  dayofyear  week  weekofyear  \\\n",
       "0       30.179153  2017.0    7.0  15.0   0.0      196.0  28.0        28.0   \n",
       "1       30.179153  2017.0   10.0  27.0   0.0      300.0  43.0        43.0   \n",
       "2       30.229024  2017.0   10.0   3.0   0.0      276.0  40.0        40.0   \n",
       "3       30.179153  2017.0    9.0   9.0   0.0      252.0  36.0        36.0   \n",
       "4       30.179153  2017.0    7.0   6.0   0.0      187.0  27.0        27.0   \n",
       "\n",
       "   dayofweek  weekday  quarter  \n",
       "0        5.0      5.0      3.0  \n",
       "1        4.0      4.0      4.0  \n",
       "2        1.0      1.0      4.0  \n",
       "3        5.0      5.0      3.0  \n",
       "4        3.0      3.0      3.0  "
      ]
     },
     "execution_count": 66,
     "metadata": {},
     "output_type": "execute_result"
    }
   ],
   "source": [
    "X_train.head()"
   ]
  },
  {
   "cell_type": "code",
   "execution_count": 67,
   "metadata": {},
   "outputs": [
    {
     "name": "stdout",
     "output_type": "stream",
     "text": [
      "<class 'pandas.core.frame.DataFrame'>\n",
      "RangeIndex: 1224734 entries, 0 to 1224733\n",
      "Data columns (total 17 columns):\n",
      "amount             1224734 non-null float64\n",
      "atm_address_lat    1127294 non-null float64\n",
      "atm_address_lon    1127294 non-null float64\n",
      "currency           1224734 non-null float64\n",
      "mcc                1224734 non-null int64\n",
      "pos_adress_lat     1127294 non-null float64\n",
      "pos_adress_lon     1127294 non-null float64\n",
      "year               1224690 non-null float64\n",
      "month              1224690 non-null float64\n",
      "day                1224690 non-null float64\n",
      "hour               1224690 non-null float64\n",
      "dayofyear          1224690 non-null float64\n",
      "week               1224690 non-null float64\n",
      "weekofyear         1224690 non-null float64\n",
      "dayofweek          1224690 non-null float64\n",
      "weekday            1224690 non-null float64\n",
      "quarter            1224690 non-null float64\n",
      "dtypes: float64(16), int64(1)\n",
      "memory usage: 158.8 MB\n"
     ]
    }
   ],
   "source": [
    "X_train.info()"
   ]
  },
  {
   "cell_type": "code",
   "execution_count": 12,
   "metadata": {},
   "outputs": [],
   "source": [
    "y_train = df_train[['home_add_lat', 'home_add_lon', 'work_add_lat', 'work_add_lon']]"
   ]
  },
  {
   "cell_type": "code",
   "execution_count": 69,
   "metadata": {},
   "outputs": [
    {
     "data": {
      "text/html": [
       "<div>\n",
       "<style scoped>\n",
       "    .dataframe tbody tr th:only-of-type {\n",
       "        vertical-align: middle;\n",
       "    }\n",
       "\n",
       "    .dataframe tbody tr th {\n",
       "        vertical-align: top;\n",
       "    }\n",
       "\n",
       "    .dataframe thead th {\n",
       "        text-align: right;\n",
       "    }\n",
       "</style>\n",
       "<table border=\"1\" class=\"dataframe\">\n",
       "  <thead>\n",
       "    <tr style=\"text-align: right;\">\n",
       "      <th></th>\n",
       "      <th>home_add_lat</th>\n",
       "      <th>home_add_lon</th>\n",
       "      <th>work_add_lat</th>\n",
       "      <th>work_add_lon</th>\n",
       "    </tr>\n",
       "  </thead>\n",
       "  <tbody>\n",
       "    <tr>\n",
       "      <th>0</th>\n",
       "      <td>59.851</td>\n",
       "      <td>30.232</td>\n",
       "      <td>59.847</td>\n",
       "      <td>30.177</td>\n",
       "    </tr>\n",
       "    <tr>\n",
       "      <th>1</th>\n",
       "      <td>59.851</td>\n",
       "      <td>30.232</td>\n",
       "      <td>59.847</td>\n",
       "      <td>30.177</td>\n",
       "    </tr>\n",
       "    <tr>\n",
       "      <th>2</th>\n",
       "      <td>59.851</td>\n",
       "      <td>30.232</td>\n",
       "      <td>59.847</td>\n",
       "      <td>30.177</td>\n",
       "    </tr>\n",
       "    <tr>\n",
       "      <th>3</th>\n",
       "      <td>59.851</td>\n",
       "      <td>30.232</td>\n",
       "      <td>59.847</td>\n",
       "      <td>30.177</td>\n",
       "    </tr>\n",
       "    <tr>\n",
       "      <th>4</th>\n",
       "      <td>59.851</td>\n",
       "      <td>30.232</td>\n",
       "      <td>59.847</td>\n",
       "      <td>30.177</td>\n",
       "    </tr>\n",
       "  </tbody>\n",
       "</table>\n",
       "</div>"
      ],
      "text/plain": [
       "   home_add_lat  home_add_lon  work_add_lat  work_add_lon\n",
       "0        59.851        30.232        59.847        30.177\n",
       "1        59.851        30.232        59.847        30.177\n",
       "2        59.851        30.232        59.847        30.177\n",
       "3        59.851        30.232        59.847        30.177\n",
       "4        59.851        30.232        59.847        30.177"
      ]
     },
     "execution_count": 69,
     "metadata": {},
     "output_type": "execute_result"
    }
   ],
   "source": [
    "y_train.head()"
   ]
  },
  {
   "cell_type": "code",
   "execution_count": 70,
   "metadata": {},
   "outputs": [
    {
     "name": "stdout",
     "output_type": "stream",
     "text": [
      "<class 'pandas.core.frame.DataFrame'>\n",
      "RangeIndex: 1224734 entries, 0 to 1224733\n",
      "Data columns (total 4 columns):\n",
      "home_add_lat    1224718 non-null float64\n",
      "home_add_lon    1224718 non-null float64\n",
      "work_add_lat    664660 non-null float64\n",
      "work_add_lon    664660 non-null float64\n",
      "dtypes: float64(4)\n",
      "memory usage: 37.4 MB\n"
     ]
    }
   ],
   "source": [
    "y_train.info()"
   ]
  },
  {
   "cell_type": "code",
   "execution_count": 13,
   "metadata": {},
   "outputs": [],
   "source": [
    "X_train = X_train.fillna(X_train.mean())"
   ]
  },
  {
   "cell_type": "code",
   "execution_count": 72,
   "metadata": {},
   "outputs": [
    {
     "name": "stdout",
     "output_type": "stream",
     "text": [
      "<class 'pandas.core.frame.DataFrame'>\n",
      "RangeIndex: 1224734 entries, 0 to 1224733\n",
      "Data columns (total 17 columns):\n",
      "amount             1224734 non-null float64\n",
      "atm_address_lat    1224734 non-null float64\n",
      "atm_address_lon    1224734 non-null float64\n",
      "currency           1224734 non-null float64\n",
      "mcc                1224734 non-null int64\n",
      "pos_adress_lat     1224734 non-null float64\n",
      "pos_adress_lon     1224734 non-null float64\n",
      "year               1224734 non-null float64\n",
      "month              1224734 non-null float64\n",
      "day                1224734 non-null float64\n",
      "hour               1224734 non-null float64\n",
      "dayofyear          1224734 non-null float64\n",
      "week               1224734 non-null float64\n",
      "weekofyear         1224734 non-null float64\n",
      "dayofweek          1224734 non-null float64\n",
      "weekday            1224734 non-null float64\n",
      "quarter            1224734 non-null float64\n",
      "dtypes: float64(16), int64(1)\n",
      "memory usage: 158.8 MB\n"
     ]
    }
   ],
   "source": [
    "X_train.info()"
   ]
  },
  {
   "cell_type": "code",
   "execution_count": 14,
   "metadata": {},
   "outputs": [],
   "source": [
    "y_train = y_train.fillna(y_train.mean())"
   ]
  },
  {
   "cell_type": "code",
   "execution_count": 74,
   "metadata": {},
   "outputs": [
    {
     "name": "stdout",
     "output_type": "stream",
     "text": [
      "<class 'pandas.core.frame.DataFrame'>\n",
      "RangeIndex: 1224734 entries, 0 to 1224733\n",
      "Data columns (total 4 columns):\n",
      "home_add_lat    1224734 non-null float64\n",
      "home_add_lon    1224734 non-null float64\n",
      "work_add_lat    1224734 non-null float64\n",
      "work_add_lon    1224734 non-null float64\n",
      "dtypes: float64(4)\n",
      "memory usage: 37.4 MB\n"
     ]
    }
   ],
   "source": [
    "y_train.info()"
   ]
  },
  {
   "cell_type": "code",
   "execution_count": 17,
   "metadata": {},
   "outputs": [
    {
     "name": "stdout",
     "output_type": "stream",
     "text": [
      "Wall time: 0 ns\n"
     ]
    }
   ],
   "source": [
    "%%time\n",
    "regr = RandomForestRegressor(max_depth=30, random_state=0)"
   ]
  },
  {
   "cell_type": "code",
   "execution_count": 18,
   "metadata": {},
   "outputs": [],
   "source": [
    "regr_multirf = MultiOutputRegressor(regr)"
   ]
  },
  {
   "cell_type": "code",
   "execution_count": 20,
   "metadata": {},
   "outputs": [
    {
     "data": {
      "text/plain": [
       "MultiOutputRegressor(estimator=RandomForestRegressor(bootstrap=True, criterion='mse', max_depth=30,\n",
       "           max_features='auto', max_leaf_nodes=None,\n",
       "           min_impurity_decrease=0.0, min_impurity_split=None,\n",
       "           min_samples_leaf=1, min_samples_split=2,\n",
       "           min_weight_fraction_leaf=0.0, n_estimators=10, n_jobs=1,\n",
       "           oob_score=False, random_state=0, verbose=0, warm_start=False),\n",
       "           n_jobs=1)"
      ]
     },
     "execution_count": 20,
     "metadata": {},
     "output_type": "execute_result"
    }
   ],
   "source": [
    "regr_multirf.fit(X_train, y_train)"
   ]
  },
  {
   "cell_type": "code",
   "execution_count": 21,
   "metadata": {},
   "outputs": [
    {
     "data": {
      "text/html": [
       "<div>\n",
       "<style scoped>\n",
       "    .dataframe tbody tr th:only-of-type {\n",
       "        vertical-align: middle;\n",
       "    }\n",
       "\n",
       "    .dataframe tbody tr th {\n",
       "        vertical-align: top;\n",
       "    }\n",
       "\n",
       "    .dataframe thead th {\n",
       "        text-align: right;\n",
       "    }\n",
       "</style>\n",
       "<table border=\"1\" class=\"dataframe\">\n",
       "  <thead>\n",
       "    <tr style=\"text-align: right;\">\n",
       "      <th></th>\n",
       "      <th>amount</th>\n",
       "      <th>atm_address</th>\n",
       "      <th>atm_address_lat</th>\n",
       "      <th>atm_address_lon</th>\n",
       "      <th>city</th>\n",
       "      <th>country</th>\n",
       "      <th>currency</th>\n",
       "      <th>customer_id</th>\n",
       "      <th>mcc</th>\n",
       "      <th>pos_address</th>\n",
       "      <th>pos_address_lat</th>\n",
       "      <th>pos_address_lon</th>\n",
       "      <th>terminal_id</th>\n",
       "      <th>transaction_date</th>\n",
       "      <th>year</th>\n",
       "      <th>month</th>\n",
       "      <th>day</th>\n",
       "      <th>hour</th>\n",
       "      <th>dayofyear</th>\n",
       "      <th>week</th>\n",
       "      <th>weekofyear</th>\n",
       "      <th>dayofweek</th>\n",
       "      <th>weekday</th>\n",
       "      <th>quarter</th>\n",
       "    </tr>\n",
       "  </thead>\n",
       "  <tbody>\n",
       "    <tr>\n",
       "      <th>0</th>\n",
       "      <td>2.211818</td>\n",
       "      <td>NaN</td>\n",
       "      <td>NaN</td>\n",
       "      <td>NaN</td>\n",
       "      <td>IVANTEEVKA</td>\n",
       "      <td>RUS</td>\n",
       "      <td>643.0</td>\n",
       "      <td>00fd410f5c580c8351cafa88d82b60f3</td>\n",
       "      <td>5,411</td>\n",
       "      <td>2-1 TOLMACHEVA STRIVANTEEVKA141280    RUSRUS</td>\n",
       "      <td>55.967487</td>\n",
       "      <td>37.913682</td>\n",
       "      <td>ff0476dae4b098a7b16aabe93d4268df</td>\n",
       "      <td>2017-08-24</td>\n",
       "      <td>2017.0</td>\n",
       "      <td>8.0</td>\n",
       "      <td>24.0</td>\n",
       "      <td>0.0</td>\n",
       "      <td>236.0</td>\n",
       "      <td>34.0</td>\n",
       "      <td>34.0</td>\n",
       "      <td>3.0</td>\n",
       "      <td>3.0</td>\n",
       "      <td>3.0</td>\n",
       "    </tr>\n",
       "    <tr>\n",
       "      <th>1</th>\n",
       "      <td>1.331379</td>\n",
       "      <td>NaN</td>\n",
       "      <td>NaN</td>\n",
       "      <td>NaN</td>\n",
       "      <td>IVANTEEVKA</td>\n",
       "      <td>RUS</td>\n",
       "      <td>643.0</td>\n",
       "      <td>00fd410f5c580c8351cafa88d82b60f3</td>\n",
       "      <td>4,111</td>\n",
       "      <td>SOVETSKIJ, 32IVANTEEVKA141282    RUSRUS</td>\n",
       "      <td>55.971296</td>\n",
       "      <td>37.905184</td>\n",
       "      <td>7cfd9a60282459d4692ecc85b856072e</td>\n",
       "      <td>2017-08-12</td>\n",
       "      <td>2017.0</td>\n",
       "      <td>8.0</td>\n",
       "      <td>12.0</td>\n",
       "      <td>0.0</td>\n",
       "      <td>224.0</td>\n",
       "      <td>32.0</td>\n",
       "      <td>32.0</td>\n",
       "      <td>5.0</td>\n",
       "      <td>5.0</td>\n",
       "      <td>3.0</td>\n",
       "    </tr>\n",
       "    <tr>\n",
       "      <th>2</th>\n",
       "      <td>2.608004</td>\n",
       "      <td>NaN</td>\n",
       "      <td>NaN</td>\n",
       "      <td>NaN</td>\n",
       "      <td>PUSHKINO</td>\n",
       "      <td>RUS</td>\n",
       "      <td>643.0</td>\n",
       "      <td>00fd410f5c580c8351cafa88d82b60f3</td>\n",
       "      <td>5,411</td>\n",
       "      <td>105,KRASOARMEYSKOE SHPUSHKINO141206    RUSRUS</td>\n",
       "      <td>56.016591</td>\n",
       "      <td>37.909098</td>\n",
       "      <td>7e5a532f0029861d8a9c4f0479b9450b</td>\n",
       "      <td>2017-06-17</td>\n",
       "      <td>2017.0</td>\n",
       "      <td>6.0</td>\n",
       "      <td>17.0</td>\n",
       "      <td>0.0</td>\n",
       "      <td>168.0</td>\n",
       "      <td>24.0</td>\n",
       "      <td>24.0</td>\n",
       "      <td>5.0</td>\n",
       "      <td>5.0</td>\n",
       "      <td>2.0</td>\n",
       "    </tr>\n",
       "    <tr>\n",
       "      <th>3</th>\n",
       "      <td>1.916752</td>\n",
       "      <td>NaN</td>\n",
       "      <td>NaN</td>\n",
       "      <td>NaN</td>\n",
       "      <td>IVANTEEVKA</td>\n",
       "      <td>RUS</td>\n",
       "      <td>643.0</td>\n",
       "      <td>00fd410f5c580c8351cafa88d82b60f3</td>\n",
       "      <td>5,411</td>\n",
       "      <td>G. IVANTEEVKA, UL.TOLMACHEVA, D.6IVANTEEVKA141...</td>\n",
       "      <td>55.964507</td>\n",
       "      <td>37.937912</td>\n",
       "      <td>2afe7d1bc61b86c449f413bdf2119032</td>\n",
       "      <td>2017-08-12</td>\n",
       "      <td>2017.0</td>\n",
       "      <td>8.0</td>\n",
       "      <td>12.0</td>\n",
       "      <td>0.0</td>\n",
       "      <td>224.0</td>\n",
       "      <td>32.0</td>\n",
       "      <td>32.0</td>\n",
       "      <td>5.0</td>\n",
       "      <td>5.0</td>\n",
       "      <td>3.0</td>\n",
       "    </tr>\n",
       "    <tr>\n",
       "      <th>4</th>\n",
       "      <td>1.981067</td>\n",
       "      <td>NaN</td>\n",
       "      <td>NaN</td>\n",
       "      <td>NaN</td>\n",
       "      <td>MOSCOW</td>\n",
       "      <td>RUS</td>\n",
       "      <td>643.0</td>\n",
       "      <td>00fd410f5c580c8351cafa88d82b60f3</td>\n",
       "      <td>5,814</td>\n",
       "      <td>5 KOMSOMOLSKAYA SQMOSCOW101000    RUSRUS</td>\n",
       "      <td>55.776802</td>\n",
       "      <td>37.657352</td>\n",
       "      <td>ab4f00601ff1d949afc59ee3f804c79c</td>\n",
       "      <td>2017-04-26</td>\n",
       "      <td>2017.0</td>\n",
       "      <td>4.0</td>\n",
       "      <td>26.0</td>\n",
       "      <td>0.0</td>\n",
       "      <td>116.0</td>\n",
       "      <td>17.0</td>\n",
       "      <td>17.0</td>\n",
       "      <td>2.0</td>\n",
       "      <td>2.0</td>\n",
       "      <td>2.0</td>\n",
       "    </tr>\n",
       "  </tbody>\n",
       "</table>\n",
       "</div>"
      ],
      "text/plain": [
       "     amount atm_address  atm_address_lat  atm_address_lon        city country  \\\n",
       "0  2.211818         NaN              NaN              NaN  IVANTEEVKA     RUS   \n",
       "1  1.331379         NaN              NaN              NaN  IVANTEEVKA     RUS   \n",
       "2  2.608004         NaN              NaN              NaN    PUSHKINO     RUS   \n",
       "3  1.916752         NaN              NaN              NaN  IVANTEEVKA     RUS   \n",
       "4  1.981067         NaN              NaN              NaN      MOSCOW     RUS   \n",
       "\n",
       "   currency                       customer_id    mcc  \\\n",
       "0     643.0  00fd410f5c580c8351cafa88d82b60f3  5,411   \n",
       "1     643.0  00fd410f5c580c8351cafa88d82b60f3  4,111   \n",
       "2     643.0  00fd410f5c580c8351cafa88d82b60f3  5,411   \n",
       "3     643.0  00fd410f5c580c8351cafa88d82b60f3  5,411   \n",
       "4     643.0  00fd410f5c580c8351cafa88d82b60f3  5,814   \n",
       "\n",
       "                                         pos_address  pos_address_lat  \\\n",
       "0       2-1 TOLMACHEVA STRIVANTEEVKA141280    RUSRUS        55.967487   \n",
       "1            SOVETSKIJ, 32IVANTEEVKA141282    RUSRUS        55.971296   \n",
       "2      105,KRASOARMEYSKOE SHPUSHKINO141206    RUSRUS        56.016591   \n",
       "3  G. IVANTEEVKA, UL.TOLMACHEVA, D.6IVANTEEVKA141...        55.964507   \n",
       "4           5 KOMSOMOLSKAYA SQMOSCOW101000    RUSRUS        55.776802   \n",
       "\n",
       "   pos_address_lon                       terminal_id transaction_date    year  \\\n",
       "0        37.913682  ff0476dae4b098a7b16aabe93d4268df       2017-08-24  2017.0   \n",
       "1        37.905184  7cfd9a60282459d4692ecc85b856072e       2017-08-12  2017.0   \n",
       "2        37.909098  7e5a532f0029861d8a9c4f0479b9450b       2017-06-17  2017.0   \n",
       "3        37.937912  2afe7d1bc61b86c449f413bdf2119032       2017-08-12  2017.0   \n",
       "4        37.657352  ab4f00601ff1d949afc59ee3f804c79c       2017-04-26  2017.0   \n",
       "\n",
       "   month   day  hour  dayofyear  week  weekofyear  dayofweek  weekday  quarter  \n",
       "0    8.0  24.0   0.0      236.0  34.0        34.0        3.0      3.0      3.0  \n",
       "1    8.0  12.0   0.0      224.0  32.0        32.0        5.0      5.0      3.0  \n",
       "2    6.0  17.0   0.0      168.0  24.0        24.0        5.0      5.0      2.0  \n",
       "3    8.0  12.0   0.0      224.0  32.0        32.0        5.0      5.0      3.0  \n",
       "4    4.0  26.0   0.0      116.0  17.0        17.0        2.0      2.0      2.0  "
      ]
     },
     "execution_count": 21,
     "metadata": {},
     "output_type": "execute_result"
    }
   ],
   "source": [
    "df_test.head()"
   ]
  },
  {
   "cell_type": "code",
   "execution_count": 22,
   "metadata": {},
   "outputs": [
    {
     "data": {
      "text/plain": [
       "(1265470, 24)"
      ]
     },
     "execution_count": 22,
     "metadata": {},
     "output_type": "execute_result"
    }
   ],
   "source": [
    "df_test.shape"
   ]
  },
  {
   "cell_type": "code",
   "execution_count": 35,
   "metadata": {},
   "outputs": [],
   "source": [
    "X_test = df_test.drop(['atm_address', 'city', 'country', 'customer_id', 'pos_address', 'terminal_id', 'transaction_date'], axis=1)"
   ]
  },
  {
   "cell_type": "code",
   "execution_count": 36,
   "metadata": {},
   "outputs": [],
   "source": [
    "X_test['mcc'] = pd.to_numeric(X_test['mcc'].str.replace(',',''), errors='coerce')"
   ]
  },
  {
   "cell_type": "code",
   "execution_count": 37,
   "metadata": {},
   "outputs": [
    {
     "data": {
      "text/html": [
       "<div>\n",
       "<style scoped>\n",
       "    .dataframe tbody tr th:only-of-type {\n",
       "        vertical-align: middle;\n",
       "    }\n",
       "\n",
       "    .dataframe tbody tr th {\n",
       "        vertical-align: top;\n",
       "    }\n",
       "\n",
       "    .dataframe thead th {\n",
       "        text-align: right;\n",
       "    }\n",
       "</style>\n",
       "<table border=\"1\" class=\"dataframe\">\n",
       "  <thead>\n",
       "    <tr style=\"text-align: right;\">\n",
       "      <th></th>\n",
       "      <th>amount</th>\n",
       "      <th>atm_address_lat</th>\n",
       "      <th>atm_address_lon</th>\n",
       "      <th>currency</th>\n",
       "      <th>mcc</th>\n",
       "      <th>pos_address_lat</th>\n",
       "      <th>pos_address_lon</th>\n",
       "      <th>year</th>\n",
       "      <th>month</th>\n",
       "      <th>day</th>\n",
       "      <th>hour</th>\n",
       "      <th>dayofyear</th>\n",
       "      <th>week</th>\n",
       "      <th>weekofyear</th>\n",
       "      <th>dayofweek</th>\n",
       "      <th>weekday</th>\n",
       "      <th>quarter</th>\n",
       "    </tr>\n",
       "  </thead>\n",
       "  <tbody>\n",
       "    <tr>\n",
       "      <th>0</th>\n",
       "      <td>2.211818</td>\n",
       "      <td>NaN</td>\n",
       "      <td>NaN</td>\n",
       "      <td>643.0</td>\n",
       "      <td>5411</td>\n",
       "      <td>55.967487</td>\n",
       "      <td>37.913682</td>\n",
       "      <td>2017.0</td>\n",
       "      <td>8.0</td>\n",
       "      <td>24.0</td>\n",
       "      <td>0.0</td>\n",
       "      <td>236.0</td>\n",
       "      <td>34.0</td>\n",
       "      <td>34.0</td>\n",
       "      <td>3.0</td>\n",
       "      <td>3.0</td>\n",
       "      <td>3.0</td>\n",
       "    </tr>\n",
       "    <tr>\n",
       "      <th>1</th>\n",
       "      <td>1.331379</td>\n",
       "      <td>NaN</td>\n",
       "      <td>NaN</td>\n",
       "      <td>643.0</td>\n",
       "      <td>4111</td>\n",
       "      <td>55.971296</td>\n",
       "      <td>37.905184</td>\n",
       "      <td>2017.0</td>\n",
       "      <td>8.0</td>\n",
       "      <td>12.0</td>\n",
       "      <td>0.0</td>\n",
       "      <td>224.0</td>\n",
       "      <td>32.0</td>\n",
       "      <td>32.0</td>\n",
       "      <td>5.0</td>\n",
       "      <td>5.0</td>\n",
       "      <td>3.0</td>\n",
       "    </tr>\n",
       "    <tr>\n",
       "      <th>2</th>\n",
       "      <td>2.608004</td>\n",
       "      <td>NaN</td>\n",
       "      <td>NaN</td>\n",
       "      <td>643.0</td>\n",
       "      <td>5411</td>\n",
       "      <td>56.016591</td>\n",
       "      <td>37.909098</td>\n",
       "      <td>2017.0</td>\n",
       "      <td>6.0</td>\n",
       "      <td>17.0</td>\n",
       "      <td>0.0</td>\n",
       "      <td>168.0</td>\n",
       "      <td>24.0</td>\n",
       "      <td>24.0</td>\n",
       "      <td>5.0</td>\n",
       "      <td>5.0</td>\n",
       "      <td>2.0</td>\n",
       "    </tr>\n",
       "    <tr>\n",
       "      <th>3</th>\n",
       "      <td>1.916752</td>\n",
       "      <td>NaN</td>\n",
       "      <td>NaN</td>\n",
       "      <td>643.0</td>\n",
       "      <td>5411</td>\n",
       "      <td>55.964507</td>\n",
       "      <td>37.937912</td>\n",
       "      <td>2017.0</td>\n",
       "      <td>8.0</td>\n",
       "      <td>12.0</td>\n",
       "      <td>0.0</td>\n",
       "      <td>224.0</td>\n",
       "      <td>32.0</td>\n",
       "      <td>32.0</td>\n",
       "      <td>5.0</td>\n",
       "      <td>5.0</td>\n",
       "      <td>3.0</td>\n",
       "    </tr>\n",
       "    <tr>\n",
       "      <th>4</th>\n",
       "      <td>1.981067</td>\n",
       "      <td>NaN</td>\n",
       "      <td>NaN</td>\n",
       "      <td>643.0</td>\n",
       "      <td>5814</td>\n",
       "      <td>55.776802</td>\n",
       "      <td>37.657352</td>\n",
       "      <td>2017.0</td>\n",
       "      <td>4.0</td>\n",
       "      <td>26.0</td>\n",
       "      <td>0.0</td>\n",
       "      <td>116.0</td>\n",
       "      <td>17.0</td>\n",
       "      <td>17.0</td>\n",
       "      <td>2.0</td>\n",
       "      <td>2.0</td>\n",
       "      <td>2.0</td>\n",
       "    </tr>\n",
       "  </tbody>\n",
       "</table>\n",
       "</div>"
      ],
      "text/plain": [
       "     amount  atm_address_lat  atm_address_lon  currency   mcc  \\\n",
       "0  2.211818              NaN              NaN     643.0  5411   \n",
       "1  1.331379              NaN              NaN     643.0  4111   \n",
       "2  2.608004              NaN              NaN     643.0  5411   \n",
       "3  1.916752              NaN              NaN     643.0  5411   \n",
       "4  1.981067              NaN              NaN     643.0  5814   \n",
       "\n",
       "   pos_address_lat  pos_address_lon    year  month   day  hour  dayofyear  \\\n",
       "0        55.967487        37.913682  2017.0    8.0  24.0   0.0      236.0   \n",
       "1        55.971296        37.905184  2017.0    8.0  12.0   0.0      224.0   \n",
       "2        56.016591        37.909098  2017.0    6.0  17.0   0.0      168.0   \n",
       "3        55.964507        37.937912  2017.0    8.0  12.0   0.0      224.0   \n",
       "4        55.776802        37.657352  2017.0    4.0  26.0   0.0      116.0   \n",
       "\n",
       "   week  weekofyear  dayofweek  weekday  quarter  \n",
       "0  34.0        34.0        3.0      3.0      3.0  \n",
       "1  32.0        32.0        5.0      5.0      3.0  \n",
       "2  24.0        24.0        5.0      5.0      2.0  \n",
       "3  32.0        32.0        5.0      5.0      3.0  \n",
       "4  17.0        17.0        2.0      2.0      2.0  "
      ]
     },
     "execution_count": 37,
     "metadata": {},
     "output_type": "execute_result"
    }
   ],
   "source": [
    "X_test.head()"
   ]
  },
  {
   "cell_type": "code",
   "execution_count": 38,
   "metadata": {},
   "outputs": [],
   "source": [
    "X_test['atm_address_lat'] = X_test['atm_address_lat'].fillna(X_test['pos_address_lat'])\n",
    "X_test['atm_address_lon'] = X_test['atm_address_lat'].fillna(X_test['pos_address_lon'])"
   ]
  },
  {
   "cell_type": "code",
   "execution_count": 39,
   "metadata": {},
   "outputs": [],
   "source": [
    "X_test['currency'] = X_test['currency'].fillna(0)"
   ]
  },
  {
   "cell_type": "code",
   "execution_count": 40,
   "metadata": {},
   "outputs": [],
   "source": [
    "X_test['pos_address_lat'] = X_test['pos_address_lat'].fillna(X_test['atm_address_lat'])\n",
    "X_test['pos_address_lon'] = X_test['pos_address_lon'].fillna(X_test['atm_address_lon'])"
   ]
  },
  {
   "cell_type": "code",
   "execution_count": 41,
   "metadata": {},
   "outputs": [],
   "source": [
    "X_test = X_test.fillna(X_test.mean())"
   ]
  },
  {
   "cell_type": "code",
   "execution_count": 42,
   "metadata": {},
   "outputs": [
    {
     "name": "stdout",
     "output_type": "stream",
     "text": [
      "<class 'pandas.core.frame.DataFrame'>\n",
      "RangeIndex: 1265470 entries, 0 to 1265469\n",
      "Data columns (total 17 columns):\n",
      "amount             1265470 non-null float64\n",
      "atm_address_lat    1265470 non-null float64\n",
      "atm_address_lon    1265470 non-null float64\n",
      "currency           1265470 non-null float64\n",
      "mcc                1265470 non-null int64\n",
      "pos_address_lat    1265470 non-null float64\n",
      "pos_address_lon    1265470 non-null float64\n",
      "year               1265470 non-null float64\n",
      "month              1265470 non-null float64\n",
      "day                1265470 non-null float64\n",
      "hour               1265470 non-null float64\n",
      "dayofyear          1265470 non-null float64\n",
      "week               1265470 non-null float64\n",
      "weekofyear         1265470 non-null float64\n",
      "dayofweek          1265470 non-null float64\n",
      "weekday            1265470 non-null float64\n",
      "quarter            1265470 non-null float64\n",
      "dtypes: float64(16), int64(1)\n",
      "memory usage: 164.1 MB\n"
     ]
    }
   ],
   "source": [
    "X_test.info()"
   ]
  },
  {
   "cell_type": "code",
   "execution_count": 43,
   "metadata": {},
   "outputs": [],
   "source": [
    "y_multirf = regr_multirf.predict(X_test)"
   ]
  },
  {
   "cell_type": "code",
   "execution_count": 44,
   "metadata": {},
   "outputs": [],
   "source": [
    "df_trees = pd.DataFrame(y_multirf)"
   ]
  },
  {
   "cell_type": "code",
   "execution_count": 45,
   "metadata": {},
   "outputs": [],
   "source": [
    "df_trees = df_trees.round(5)"
   ]
  },
  {
   "cell_type": "code",
   "execution_count": 46,
   "metadata": {},
   "outputs": [
    {
     "data": {
      "text/html": [
       "<div>\n",
       "<style scoped>\n",
       "    .dataframe tbody tr th:only-of-type {\n",
       "        vertical-align: middle;\n",
       "    }\n",
       "\n",
       "    .dataframe tbody tr th {\n",
       "        vertical-align: top;\n",
       "    }\n",
       "\n",
       "    .dataframe thead th {\n",
       "        text-align: right;\n",
       "    }\n",
       "</style>\n",
       "<table border=\"1\" class=\"dataframe\">\n",
       "  <thead>\n",
       "    <tr style=\"text-align: right;\">\n",
       "      <th></th>\n",
       "      <th>0</th>\n",
       "      <th>1</th>\n",
       "      <th>2</th>\n",
       "      <th>3</th>\n",
       "    </tr>\n",
       "  </thead>\n",
       "  <tbody>\n",
       "    <tr>\n",
       "      <th>0</th>\n",
       "      <td>55.88447</td>\n",
       "      <td>37.83348</td>\n",
       "      <td>56.07442</td>\n",
       "      <td>39.25557</td>\n",
       "    </tr>\n",
       "    <tr>\n",
       "      <th>1</th>\n",
       "      <td>55.75552</td>\n",
       "      <td>37.78137</td>\n",
       "      <td>56.00836</td>\n",
       "      <td>37.67931</td>\n",
       "    </tr>\n",
       "    <tr>\n",
       "      <th>2</th>\n",
       "      <td>55.90234</td>\n",
       "      <td>37.75037</td>\n",
       "      <td>55.98961</td>\n",
       "      <td>39.05289</td>\n",
       "    </tr>\n",
       "    <tr>\n",
       "      <th>3</th>\n",
       "      <td>55.92366</td>\n",
       "      <td>37.77062</td>\n",
       "      <td>55.93086</td>\n",
       "      <td>39.18375</td>\n",
       "    </tr>\n",
       "    <tr>\n",
       "      <th>4</th>\n",
       "      <td>55.57842</td>\n",
       "      <td>38.12292</td>\n",
       "      <td>56.11052</td>\n",
       "      <td>39.43046</td>\n",
       "    </tr>\n",
       "  </tbody>\n",
       "</table>\n",
       "</div>"
      ],
      "text/plain": [
       "          0         1         2         3\n",
       "0  55.88447  37.83348  56.07442  39.25557\n",
       "1  55.75552  37.78137  56.00836  37.67931\n",
       "2  55.90234  37.75037  55.98961  39.05289\n",
       "3  55.92366  37.77062  55.93086  39.18375\n",
       "4  55.57842  38.12292  56.11052  39.43046"
      ]
     },
     "execution_count": 46,
     "metadata": {},
     "output_type": "execute_result"
    }
   ],
   "source": [
    "df_trees.head()"
   ]
  },
  {
   "cell_type": "code",
   "execution_count": 47,
   "metadata": {},
   "outputs": [],
   "source": [
    "result = pd.concat([df_test['customer_id'], df_trees], axis=1)"
   ]
  },
  {
   "cell_type": "code",
   "execution_count": 48,
   "metadata": {},
   "outputs": [
    {
     "data": {
      "text/html": [
       "<div>\n",
       "<style scoped>\n",
       "    .dataframe tbody tr th:only-of-type {\n",
       "        vertical-align: middle;\n",
       "    }\n",
       "\n",
       "    .dataframe tbody tr th {\n",
       "        vertical-align: top;\n",
       "    }\n",
       "\n",
       "    .dataframe thead th {\n",
       "        text-align: right;\n",
       "    }\n",
       "</style>\n",
       "<table border=\"1\" class=\"dataframe\">\n",
       "  <thead>\n",
       "    <tr style=\"text-align: right;\">\n",
       "      <th></th>\n",
       "      <th>customer_id</th>\n",
       "      <th>0</th>\n",
       "      <th>1</th>\n",
       "      <th>2</th>\n",
       "      <th>3</th>\n",
       "    </tr>\n",
       "  </thead>\n",
       "  <tbody>\n",
       "    <tr>\n",
       "      <th>0</th>\n",
       "      <td>00fd410f5c580c8351cafa88d82b60f3</td>\n",
       "      <td>55.88447</td>\n",
       "      <td>37.83348</td>\n",
       "      <td>56.07442</td>\n",
       "      <td>39.25557</td>\n",
       "    </tr>\n",
       "    <tr>\n",
       "      <th>1</th>\n",
       "      <td>00fd410f5c580c8351cafa88d82b60f3</td>\n",
       "      <td>55.75552</td>\n",
       "      <td>37.78137</td>\n",
       "      <td>56.00836</td>\n",
       "      <td>37.67931</td>\n",
       "    </tr>\n",
       "    <tr>\n",
       "      <th>2</th>\n",
       "      <td>00fd410f5c580c8351cafa88d82b60f3</td>\n",
       "      <td>55.90234</td>\n",
       "      <td>37.75037</td>\n",
       "      <td>55.98961</td>\n",
       "      <td>39.05289</td>\n",
       "    </tr>\n",
       "    <tr>\n",
       "      <th>3</th>\n",
       "      <td>00fd410f5c580c8351cafa88d82b60f3</td>\n",
       "      <td>55.92366</td>\n",
       "      <td>37.77062</td>\n",
       "      <td>55.93086</td>\n",
       "      <td>39.18375</td>\n",
       "    </tr>\n",
       "    <tr>\n",
       "      <th>4</th>\n",
       "      <td>00fd410f5c580c8351cafa88d82b60f3</td>\n",
       "      <td>55.57842</td>\n",
       "      <td>38.12292</td>\n",
       "      <td>56.11052</td>\n",
       "      <td>39.43046</td>\n",
       "    </tr>\n",
       "  </tbody>\n",
       "</table>\n",
       "</div>"
      ],
      "text/plain": [
       "                        customer_id         0         1         2         3\n",
       "0  00fd410f5c580c8351cafa88d82b60f3  55.88447  37.83348  56.07442  39.25557\n",
       "1  00fd410f5c580c8351cafa88d82b60f3  55.75552  37.78137  56.00836  37.67931\n",
       "2  00fd410f5c580c8351cafa88d82b60f3  55.90234  37.75037  55.98961  39.05289\n",
       "3  00fd410f5c580c8351cafa88d82b60f3  55.92366  37.77062  55.93086  39.18375\n",
       "4  00fd410f5c580c8351cafa88d82b60f3  55.57842  38.12292  56.11052  39.43046"
      ]
     },
     "execution_count": 48,
     "metadata": {},
     "output_type": "execute_result"
    }
   ],
   "source": [
    "result.head()"
   ]
  },
  {
   "cell_type": "code",
   "execution_count": 49,
   "metadata": {},
   "outputs": [],
   "source": [
    "result_mean = result.groupby(['customer_id']).mean()"
   ]
  },
  {
   "cell_type": "code",
   "execution_count": 50,
   "metadata": {},
   "outputs": [],
   "source": [
    "result_median = result.groupby(['customer_id']).median()"
   ]
  },
  {
   "cell_type": "code",
   "execution_count": 56,
   "metadata": {},
   "outputs": [
    {
     "data": {
      "text/html": [
       "<div>\n",
       "<style scoped>\n",
       "    .dataframe tbody tr th:only-of-type {\n",
       "        vertical-align: middle;\n",
       "    }\n",
       "\n",
       "    .dataframe tbody tr th {\n",
       "        vertical-align: top;\n",
       "    }\n",
       "\n",
       "    .dataframe thead th {\n",
       "        text-align: right;\n",
       "    }\n",
       "</style>\n",
       "<table border=\"1\" class=\"dataframe\">\n",
       "  <thead>\n",
       "    <tr style=\"text-align: right;\">\n",
       "      <th></th>\n",
       "      <th>0</th>\n",
       "      <th>1</th>\n",
       "      <th>2</th>\n",
       "      <th>3</th>\n",
       "    </tr>\n",
       "    <tr>\n",
       "      <th>customer_id</th>\n",
       "      <th></th>\n",
       "      <th></th>\n",
       "      <th></th>\n",
       "      <th></th>\n",
       "    </tr>\n",
       "  </thead>\n",
       "  <tbody>\n",
       "    <tr>\n",
       "      <th>00021683ccb416637fe9a4cd35e4606e</th>\n",
       "      <td>55.018648</td>\n",
       "      <td>81.812454</td>\n",
       "      <td>55.596530</td>\n",
       "      <td>68.454446</td>\n",
       "    </tr>\n",
       "    <tr>\n",
       "      <th>0002d0f8a642272b41c292c12ab6e602</th>\n",
       "      <td>52.610758</td>\n",
       "      <td>43.054356</td>\n",
       "      <td>55.014482</td>\n",
       "      <td>40.522652</td>\n",
       "    </tr>\n",
       "    <tr>\n",
       "      <th>0004d182d9fede3ba2534b2d5e5ad27e</th>\n",
       "      <td>47.816585</td>\n",
       "      <td>40.547469</td>\n",
       "      <td>50.726676</td>\n",
       "      <td>40.375395</td>\n",
       "    </tr>\n",
       "    <tr>\n",
       "      <th>0008c2445518c9392cb356c5c3db3392</th>\n",
       "      <td>52.119316</td>\n",
       "      <td>44.622993</td>\n",
       "      <td>54.107614</td>\n",
       "      <td>41.598741</td>\n",
       "    </tr>\n",
       "    <tr>\n",
       "      <th>000b373cc4969c0be8e0933c08da67e1</th>\n",
       "      <td>56.093814</td>\n",
       "      <td>43.331304</td>\n",
       "      <td>56.215500</td>\n",
       "      <td>41.680688</td>\n",
       "    </tr>\n",
       "  </tbody>\n",
       "</table>\n",
       "</div>"
      ],
      "text/plain": [
       "                                          0          1          2          3\n",
       "customer_id                                                                 \n",
       "00021683ccb416637fe9a4cd35e4606e  55.018648  81.812454  55.596530  68.454446\n",
       "0002d0f8a642272b41c292c12ab6e602  52.610758  43.054356  55.014482  40.522652\n",
       "0004d182d9fede3ba2534b2d5e5ad27e  47.816585  40.547469  50.726676  40.375395\n",
       "0008c2445518c9392cb356c5c3db3392  52.119316  44.622993  54.107614  41.598741\n",
       "000b373cc4969c0be8e0933c08da67e1  56.093814  43.331304  56.215500  41.680688"
      ]
     },
     "execution_count": 56,
     "metadata": {},
     "output_type": "execute_result"
    }
   ],
   "source": [
    "result_mean.head()"
   ]
  },
  {
   "cell_type": "code",
   "execution_count": 51,
   "metadata": {},
   "outputs": [
    {
     "data": {
      "text/plain": [
       "(9997, 4)"
      ]
     },
     "execution_count": 51,
     "metadata": {},
     "output_type": "execute_result"
    }
   ],
   "source": [
    "result_mean.shape"
   ]
  },
  {
   "cell_type": "code",
   "execution_count": 57,
   "metadata": {},
   "outputs": [],
   "source": [
    "result_mean.to_csv('raif_mean.csv', index=True)"
   ]
  },
  {
   "cell_type": "code",
   "execution_count": 58,
   "metadata": {},
   "outputs": [],
   "source": [
    "result_median.to_csv('raif_median.csv', index=True)"
   ]
  },
  {
   "cell_type": "code",
   "execution_count": null,
   "metadata": {},
   "outputs": [],
   "source": []
  }
 ],
 "metadata": {
  "kernelspec": {
   "display_name": "Python 3",
   "language": "python",
   "name": "python3"
  },
  "language_info": {
   "codemirror_mode": {
    "name": "ipython",
    "version": 3
   },
   "file_extension": ".py",
   "mimetype": "text/x-python",
   "name": "python",
   "nbconvert_exporter": "python",
   "pygments_lexer": "ipython3",
   "version": "3.6.5"
  }
 },
 "nbformat": 4,
 "nbformat_minor": 2
}
